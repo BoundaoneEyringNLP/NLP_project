{
 "cells": [
  {
   "cell_type": "code",
   "execution_count": 1,
   "id": "e908b19c",
   "metadata": {},
   "outputs": [],
   "source": [
    "#ignoring warning message from Python\n",
    "import warnings\n",
    "warnings.filterwarnings('ignore')\n",
    "\n",
    "#selenium imports\n",
    "import time\n",
    "import selenium\n",
    "from selenium import webdriver\n",
    "from selenium.webdriver.common.by import By\n",
    "from selenium.webdriver.support.ui import WebDriverWait\n",
    "from selenium.webdriver.support import expected_conditions as EC\n",
    "from selenium.webdriver.common.keys import Keys\n",
    "\n",
    "#General imports\n",
    "import pandas as pd\n",
    "import seaborn as sns\n",
    "import matplotlib.pyplot as plt"
   ]
  },
  {
   "cell_type": "code",
   "execution_count": 2,
   "id": "5f0212eb",
   "metadata": {},
   "outputs": [],
   "source": [
    "#path for webdriver:\n",
    "\n",
    "path = '/Users/jeneyring/Downloads/chromedriver'\n",
    "driver = webdriver.Chrome(path)"
   ]
  },
  {
   "cell_type": "code",
   "execution_count": 3,
   "id": "7e09b40c",
   "metadata": {},
   "outputs": [],
   "source": [
    "#maximize window\n",
    "driver.maximize_window()\n",
    "driver.minimize_window()\n",
    "driver.maximize_window()\n",
    "driver.switch_to.window(driver.current_window_handle)\n",
    "driver.implicitly_wait(10)"
   ]
  },
  {
   "cell_type": "code",
   "execution_count": 4,
   "id": "0c18bac4",
   "metadata": {},
   "outputs": [],
   "source": [
    "#enter into LinkedIn site and wait 2 seconds for page to load:\n",
    "driver.get('https://www.linkedin.com/login')\n",
    "time.sleep(2)"
   ]
  },
  {
   "cell_type": "code",
   "execution_count": 5,
   "id": "0e219d45",
   "metadata": {},
   "outputs": [],
   "source": [
    "# User Credentials\n",
    "# Reading txt file where we have our user credentials\n",
    "with open('user_credentials.txt', 'r',encoding=\"utf-8\") as file:\n",
    "    user_credentials = file.readlines(-1)\n",
    "    user_credentials = [line.rstrip() for line in user_credentials]\n",
    "user_name = user_credentials[0] # First line\n",
    "password = user_credentials[1] # Second line"
   ]
  },
  {
   "cell_type": "code",
   "execution_count": 6,
   "id": "8537d3c6",
   "metadata": {},
   "outputs": [],
   "source": [
    "#placing the username and password into the linkedIn sign in page:\n",
    "driver.find_element(\"xpath\", '//*[@id=\"username\"]').send_keys(user_name)\n",
    "driver.find_element(\"xpath\",'//*[@id=\"password\"]').send_keys(password)\n",
    "time.sleep(1)"
   ]
  },
  {
   "cell_type": "code",
   "execution_count": 7,
   "id": "f2bab27b",
   "metadata": {},
   "outputs": [],
   "source": [
    "# clicking the Login button\n",
    "driver.find_element('xpath', '//*[@id=\"organic-div\"]/form/div[3]/button').click()\n",
    "driver.implicitly_wait(30)"
   ]
  },
  {
   "cell_type": "code",
   "execution_count": 8,
   "id": "1ea8e18e",
   "metadata": {},
   "outputs": [],
   "source": [
    "# Using the confirm button for account information: Just in case need to confirm\n",
    "#driver.find_element('xpath', '//*[@id=\"ember16\"]/button[1]').click()\n",
    "#driver.implicitly_wait(30)"
   ]
  },
  {
   "cell_type": "code",
   "execution_count": 9,
   "id": "8c2aa5be",
   "metadata": {},
   "outputs": [],
   "source": [
    "# Accessing to the Jobs button and clicking on it \n",
    "#do we really need this?\n",
    "#driver.find_element('xpath', '//*[@id=\"global-nav\"]/div/nav/ul/li[3]/a').click()\n",
    "#time.sleep(3)"
   ]
  },
  {
   "cell_type": "code",
   "execution_count": 10,
   "id": "2ae7009c",
   "metadata": {},
   "outputs": [],
   "source": [
    "# Accessing the search results directly via link\n",
    "url = 'https://www.linkedin.com/jobs/search/?currentJobId=3254078222&geoId=102396835&\\\n",
    "keywords=data%20analyst&location=San%20Antonio%2C%20Texas%2C%20United%20States&refresh=true'\n",
    "driver.get(url)\n",
    "time.sleep(1)"
   ]
  },
  {
   "cell_type": "code",
   "execution_count": 11,
   "id": "e22512d5",
   "metadata": {},
   "outputs": [],
   "source": [
    "#having computer only look at and select from jobs block, and jobs list:\n",
    "#jobs_block = driver.find_element(\"xpath\",'//*[@id=\"main\"]/div/section[1]/div/ul')\n",
    "#jobs_list= jobs_block.find_elements(By.CSS_SELECTOR, '.jobs-search-results-list-item')"
   ]
  },
  {
   "cell_type": "code",
   "execution_count": 18,
   "id": "e573cf45",
   "metadata": {},
   "outputs": [
    {
     "name": "stdout",
     "output_type": "stream",
     "text": [
      "Links are being collected now.\n",
      "Collecting the links in the page: 1\n",
      "Found 0 links for job offers\n"
     ]
    }
   ],
   "source": [
    "#creating an empty list: \n",
    "links = []\n",
    "# Navigate 13 pages\n",
    "print('Links are being collected now.')\n",
    "try: \n",
    "    for page in range(2,3):\n",
    "        time.sleep(2)\n",
    "        jobs_block = driver.find_element(\"xpath\",'//*[@id=\"main\"]/div/section[1]/div/ul')\n",
    "        jobs_list= jobs_block.find_elements(By.CSS_SELECTOR, '.jobs-search-results-list-item')\n",
    "    \n",
    "        for job in jobs_list:\n",
    "            all_links = job.find_elements(By.CSS_SELECTOR,'a')\n",
    "            for a in all_links:\n",
    "                if str(a.get_attribute('href')).startswith(\"https://www.linkedin.com/jobs/view\") and a.get_attribute('href') not in links: \n",
    "                    links.append(a.get_attribute('href'))\n",
    "                else:\n",
    "                    pass\n",
    "            # scroll down for each job element\n",
    "            driver.execute_script(\"arguments[0].scrollIntoView();\", job)\n",
    "        \n",
    "        print(f'Collecting the links in the page: {page-1}')\n",
    "        # go to next page:\n",
    "        driver.find_element(\"xpath\",f\"//button[@aria-label='Page {page}']\").click()\n",
    "        time.sleep(3)\n",
    "except:\n",
    "    pass\n",
    "print('Found ' + str(len(links)) + ' links for job offers')"
   ]
  },
  {
   "cell_type": "code",
   "execution_count": null,
   "id": "189dcdd5",
   "metadata": {},
   "outputs": [],
   "source": []
  },
  {
   "cell_type": "code",
   "execution_count": null,
   "id": "3ef84945",
   "metadata": {},
   "outputs": [],
   "source": []
  }
 ],
 "metadata": {
  "kernelspec": {
   "display_name": "Python 3 (ipykernel)",
   "language": "python",
   "name": "python3"
  },
  "language_info": {
   "codemirror_mode": {
    "name": "ipython",
    "version": 3
   },
   "file_extension": ".py",
   "mimetype": "text/x-python",
   "name": "python",
   "nbconvert_exporter": "python",
   "pygments_lexer": "ipython3",
   "version": "3.9.7"
  }
 },
 "nbformat": 4,
 "nbformat_minor": 5
}
