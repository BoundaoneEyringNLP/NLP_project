{
 "cells": [
  {
   "cell_type": "code",
   "execution_count": 1,
   "id": "e908b19c",
   "metadata": {},
   "outputs": [],
   "source": [
    "#ignoring warning message from Python\n",
    "import warnings\n",
    "warnings.filterwarnings('ignore')\n",
    "\n",
    "#selenium imports\n",
    "import time\n",
    "import selenium\n",
    "from selenium import webdriver\n",
    "from selenium.webdriver.common.by import By\n",
    "from selenium.webdriver.support.ui import WebDriverWait\n",
    "from selenium.webdriver.support import expected_conditions as EC\n",
    "from selenium.webdriver.common.keys import Keys\n",
    "\n",
    "#General imports\n",
    "import pandas as pd\n",
    "import seaborn as sns\n",
    "import matplotlib.pyplot as plt"
   ]
  },
  {
   "cell_type": "code",
   "execution_count": 2,
   "id": "5f0212eb",
   "metadata": {},
   "outputs": [],
   "source": [
    "#path for webdriver:\n",
    "\n",
    "path = '/Users/jeneyring/Downloads/chromedriver'\n",
    "driver = webdriver.Chrome(path)"
   ]
  },
  {
   "cell_type": "code",
   "execution_count": 3,
   "id": "7e09b40c",
   "metadata": {},
   "outputs": [],
   "source": [
    "#maximize window\n",
    "driver.maximize_window()\n",
    "driver.minimize_window()\n",
    "driver.maximize_window()\n",
    "driver.switch_to.window(driver.current_window_handle)\n",
    "driver.implicitly_wait(10)"
   ]
  },
  {
   "cell_type": "code",
   "execution_count": 4,
   "id": "0c18bac4",
   "metadata": {},
   "outputs": [],
   "source": [
    "#enter into LinkedIn site and wait 2 seconds for page to load:\n",
    "driver.get('https://www.linkedin.com/login')\n",
    "time.sleep(2)"
   ]
  },
  {
   "cell_type": "code",
   "execution_count": 5,
   "id": "0e219d45",
   "metadata": {},
   "outputs": [],
   "source": [
    "# User Credentials\n",
    "# Reading txt file where we have our user credentials\n",
    "with open('user_credentials.txt', 'r',encoding=\"utf-8\") as file:\n",
    "    user_credentials = file.readlines(-1)\n",
    "    user_credentials = [line.rstrip() for line in user_credentials]\n",
    "user_name = user_credentials[0] # First line\n",
    "password = user_credentials[1] # Second line"
   ]
  },
  {
   "cell_type": "code",
   "execution_count": 6,
   "id": "8537d3c6",
   "metadata": {},
   "outputs": [],
   "source": [
    "#placing the username and password into the linkedIn sign in page:\n",
    "driver.find_element(\"xpath\", '//*[@id=\"username\"]').send_keys(user_name)\n",
    "driver.find_element(\"xpath\",'//*[@id=\"password\"]').send_keys(password)\n",
    "time.sleep(1)"
   ]
  },
  {
   "cell_type": "code",
   "execution_count": 7,
   "id": "f2bab27b",
   "metadata": {},
   "outputs": [],
   "source": [
    "# clicking the Login button\n",
    "driver.find_element('xpath', '//*[@id=\"organic-div\"]/form/div[3]/button').click()\n",
    "driver.implicitly_wait(30)"
   ]
  },
  {
   "cell_type": "code",
   "execution_count": 8,
   "id": "1ea8e18e",
   "metadata": {},
   "outputs": [],
   "source": [
    "# Using the confirm button for account information: Just in case need to confirm\n",
    "#driver.find_element('xpath', '//*[@id=\"ember16\"]/button[1]').click()\n",
    "#driver.implicitly_wait(30)"
   ]
  },
  {
   "cell_type": "code",
   "execution_count": 9,
   "id": "8c2aa5be",
   "metadata": {},
   "outputs": [],
   "source": [
    "# Accessing to the Jobs button and clicking on it \n",
    "#do we really need this?\n",
    "#driver.find_element('xpath', '//*[@id=\"global-nav\"]/div/nav/ul/li[3]/a').click()\n",
    "#time.sleep(3)"
   ]
  },
  {
   "cell_type": "code",
   "execution_count": 10,
   "id": "2ae7009c",
   "metadata": {},
   "outputs": [],
   "source": [
    "# Accessing the search results directly via link\n",
    "url = 'https://www.linkedin.com/jobs/search/?currentJobId=3254078222&geoId=102396835&\\\n",
    "keywords=data%20analyst&location=San%20Antonio%2C%20Texas%2C%20United%20States&refresh=true'\n",
    "driver.get(url)\n",
    "time.sleep(1)"
   ]
  },
  {
   "cell_type": "code",
   "execution_count": 20,
   "id": "e22512d5",
   "metadata": {},
   "outputs": [
    {
     "ename": "InvalidArgumentException",
     "evalue": "Message: invalid argument: invalid locator\n  (Session info: chrome=105.0.5195.125)\nStacktrace:\n0   chromedriver                        0x0000000106bbd788 chromedriver + 4515720\n1   chromedriver                        0x0000000106b419d3 chromedriver + 4008403\n2   chromedriver                        0x00000001067d412a chromedriver + 413994\n3   chromedriver                        0x000000010680b17c chromedriver + 639356\n4   chromedriver                        0x000000010680ba61 chromedriver + 641633\n5   chromedriver                        0x000000010683df64 chromedriver + 847716\n6   chromedriver                        0x00000001068287fd chromedriver + 759805\n7   chromedriver                        0x000000010683bbd9 chromedriver + 838617\n8   chromedriver                        0x0000000106828603 chromedriver + 759299\n9   chromedriver                        0x00000001067fe990 chromedriver + 588176\n10  chromedriver                        0x00000001067ffa75 chromedriver + 592501\n11  chromedriver                        0x0000000106b8d6cd chromedriver + 4318925\n12  chromedriver                        0x0000000106b91f35 chromedriver + 4337461\n13  chromedriver                        0x0000000106b991ff chromedriver + 4366847\n14  chromedriver                        0x0000000106b92c5a chromedriver + 4340826\n15  chromedriver                        0x0000000106b68c2c chromedriver + 4168748\n16  chromedriver                        0x0000000106baf4f8 chromedriver + 4457720\n17  chromedriver                        0x0000000106baf693 chromedriver + 4458131\n18  chromedriver                        0x0000000106bc4a3e chromedriver + 4545086\n19  libsystem_pthread.dylib             0x00007ff81f7524e1 _pthread_start + 125\n20  libsystem_pthread.dylib             0x00007ff81f74df6b thread_start + 15\n",
     "output_type": "error",
     "traceback": [
      "\u001b[0;31m---------------------------------------------------------------------------\u001b[0m",
      "\u001b[0;31mInvalidArgumentException\u001b[0m                  Traceback (most recent call last)",
      "\u001b[0;32m/var/folders/d3/11nygz6126ndxvtrp12687680000gn/T/ipykernel_63533/1060438810.py\u001b[0m in \u001b[0;36m<module>\u001b[0;34m\u001b[0m\n\u001b[0;32m----> 1\u001b[0;31m \u001b[0mjobs_block\u001b[0m \u001b[0;34m=\u001b[0m \u001b[0mdriver\u001b[0m\u001b[0;34m.\u001b[0m\u001b[0mfind_element\u001b[0m\u001b[0;34m(\u001b[0m\u001b[0;34m\"class\"\u001b[0m\u001b[0;34m,\u001b[0m\u001b[0;34m'//*[@id=\"main\"]/div/section[1]/div'\u001b[0m\u001b[0;34m)\u001b[0m\u001b[0;34m\u001b[0m\u001b[0;34m\u001b[0m\u001b[0m\n\u001b[0m\u001b[1;32m      2\u001b[0m \u001b[0;31m#jobs_list= jobs_block.find_elements(By.CSS_SELECTOR, '.jobs-search-results-list-item')\u001b[0m\u001b[0;34m\u001b[0m\u001b[0;34m\u001b[0m\u001b[0m\n",
      "\u001b[0;32m/usr/local/anaconda3/lib/python3.9/site-packages/selenium/webdriver/remote/webdriver.py\u001b[0m in \u001b[0;36mfind_element\u001b[0;34m(self, by, value)\u001b[0m\n\u001b[1;32m    855\u001b[0m             \u001b[0mvalue\u001b[0m \u001b[0;34m=\u001b[0m \u001b[0;34m'[name=\"%s\"]'\u001b[0m \u001b[0;34m%\u001b[0m \u001b[0mvalue\u001b[0m\u001b[0;34m\u001b[0m\u001b[0;34m\u001b[0m\u001b[0m\n\u001b[1;32m    856\u001b[0m \u001b[0;34m\u001b[0m\u001b[0m\n\u001b[0;32m--> 857\u001b[0;31m         return self.execute(Command.FIND_ELEMENT, {\n\u001b[0m\u001b[1;32m    858\u001b[0m             \u001b[0;34m'using'\u001b[0m\u001b[0;34m:\u001b[0m \u001b[0mby\u001b[0m\u001b[0;34m,\u001b[0m\u001b[0;34m\u001b[0m\u001b[0;34m\u001b[0m\u001b[0m\n\u001b[1;32m    859\u001b[0m             'value': value})['value']\n",
      "\u001b[0;32m/usr/local/anaconda3/lib/python3.9/site-packages/selenium/webdriver/remote/webdriver.py\u001b[0m in \u001b[0;36mexecute\u001b[0;34m(self, driver_command, params)\u001b[0m\n\u001b[1;32m    433\u001b[0m         \u001b[0mresponse\u001b[0m \u001b[0;34m=\u001b[0m \u001b[0mself\u001b[0m\u001b[0;34m.\u001b[0m\u001b[0mcommand_executor\u001b[0m\u001b[0;34m.\u001b[0m\u001b[0mexecute\u001b[0m\u001b[0;34m(\u001b[0m\u001b[0mdriver_command\u001b[0m\u001b[0;34m,\u001b[0m \u001b[0mparams\u001b[0m\u001b[0;34m)\u001b[0m\u001b[0;34m\u001b[0m\u001b[0;34m\u001b[0m\u001b[0m\n\u001b[1;32m    434\u001b[0m         \u001b[0;32mif\u001b[0m \u001b[0mresponse\u001b[0m\u001b[0;34m:\u001b[0m\u001b[0;34m\u001b[0m\u001b[0;34m\u001b[0m\u001b[0m\n\u001b[0;32m--> 435\u001b[0;31m             \u001b[0mself\u001b[0m\u001b[0;34m.\u001b[0m\u001b[0merror_handler\u001b[0m\u001b[0;34m.\u001b[0m\u001b[0mcheck_response\u001b[0m\u001b[0;34m(\u001b[0m\u001b[0mresponse\u001b[0m\u001b[0;34m)\u001b[0m\u001b[0;34m\u001b[0m\u001b[0;34m\u001b[0m\u001b[0m\n\u001b[0m\u001b[1;32m    436\u001b[0m             response['value'] = self._unwrap_value(\n\u001b[1;32m    437\u001b[0m                 response.get('value', None))\n",
      "\u001b[0;32m/usr/local/anaconda3/lib/python3.9/site-packages/selenium/webdriver/remote/errorhandler.py\u001b[0m in \u001b[0;36mcheck_response\u001b[0;34m(self, response)\u001b[0m\n\u001b[1;32m    245\u001b[0m                 \u001b[0malert_text\u001b[0m \u001b[0;34m=\u001b[0m \u001b[0mvalue\u001b[0m\u001b[0;34m[\u001b[0m\u001b[0;34m'alert'\u001b[0m\u001b[0;34m]\u001b[0m\u001b[0;34m.\u001b[0m\u001b[0mget\u001b[0m\u001b[0;34m(\u001b[0m\u001b[0;34m'text'\u001b[0m\u001b[0;34m)\u001b[0m\u001b[0;34m\u001b[0m\u001b[0;34m\u001b[0m\u001b[0m\n\u001b[1;32m    246\u001b[0m             \u001b[0;32mraise\u001b[0m \u001b[0mexception_class\u001b[0m\u001b[0;34m(\u001b[0m\u001b[0mmessage\u001b[0m\u001b[0;34m,\u001b[0m \u001b[0mscreen\u001b[0m\u001b[0;34m,\u001b[0m \u001b[0mstacktrace\u001b[0m\u001b[0;34m,\u001b[0m \u001b[0malert_text\u001b[0m\u001b[0;34m)\u001b[0m  \u001b[0;31m# type: ignore[call-arg]  # mypy is not smart enough here\u001b[0m\u001b[0;34m\u001b[0m\u001b[0;34m\u001b[0m\u001b[0m\n\u001b[0;32m--> 247\u001b[0;31m         \u001b[0;32mraise\u001b[0m \u001b[0mexception_class\u001b[0m\u001b[0;34m(\u001b[0m\u001b[0mmessage\u001b[0m\u001b[0;34m,\u001b[0m \u001b[0mscreen\u001b[0m\u001b[0;34m,\u001b[0m \u001b[0mstacktrace\u001b[0m\u001b[0;34m)\u001b[0m\u001b[0;34m\u001b[0m\u001b[0;34m\u001b[0m\u001b[0m\n\u001b[0m\u001b[1;32m    248\u001b[0m \u001b[0;34m\u001b[0m\u001b[0m\n\u001b[1;32m    249\u001b[0m     \u001b[0;32mdef\u001b[0m \u001b[0m_value_or_default\u001b[0m\u001b[0;34m(\u001b[0m\u001b[0mself\u001b[0m\u001b[0;34m,\u001b[0m \u001b[0mobj\u001b[0m\u001b[0;34m:\u001b[0m \u001b[0mMapping\u001b[0m\u001b[0;34m[\u001b[0m\u001b[0m_KT\u001b[0m\u001b[0;34m,\u001b[0m \u001b[0m_VT\u001b[0m\u001b[0;34m]\u001b[0m\u001b[0;34m,\u001b[0m \u001b[0mkey\u001b[0m\u001b[0;34m:\u001b[0m \u001b[0m_KT\u001b[0m\u001b[0;34m,\u001b[0m \u001b[0mdefault\u001b[0m\u001b[0;34m:\u001b[0m \u001b[0m_VT\u001b[0m\u001b[0;34m)\u001b[0m \u001b[0;34m->\u001b[0m \u001b[0m_VT\u001b[0m\u001b[0;34m:\u001b[0m\u001b[0;34m\u001b[0m\u001b[0;34m\u001b[0m\u001b[0m\n",
      "\u001b[0;31mInvalidArgumentException\u001b[0m: Message: invalid argument: invalid locator\n  (Session info: chrome=105.0.5195.125)\nStacktrace:\n0   chromedriver                        0x0000000106bbd788 chromedriver + 4515720\n1   chromedriver                        0x0000000106b419d3 chromedriver + 4008403\n2   chromedriver                        0x00000001067d412a chromedriver + 413994\n3   chromedriver                        0x000000010680b17c chromedriver + 639356\n4   chromedriver                        0x000000010680ba61 chromedriver + 641633\n5   chromedriver                        0x000000010683df64 chromedriver + 847716\n6   chromedriver                        0x00000001068287fd chromedriver + 759805\n7   chromedriver                        0x000000010683bbd9 chromedriver + 838617\n8   chromedriver                        0x0000000106828603 chromedriver + 759299\n9   chromedriver                        0x00000001067fe990 chromedriver + 588176\n10  chromedriver                        0x00000001067ffa75 chromedriver + 592501\n11  chromedriver                        0x0000000106b8d6cd chromedriver + 4318925\n12  chromedriver                        0x0000000106b91f35 chromedriver + 4337461\n13  chromedriver                        0x0000000106b991ff chromedriver + 4366847\n14  chromedriver                        0x0000000106b92c5a chromedriver + 4340826\n15  chromedriver                        0x0000000106b68c2c chromedriver + 4168748\n16  chromedriver                        0x0000000106baf4f8 chromedriver + 4457720\n17  chromedriver                        0x0000000106baf693 chromedriver + 4458131\n18  chromedriver                        0x0000000106bc4a3e chromedriver + 4545086\n19  libsystem_pthread.dylib             0x00007ff81f7524e1 _pthread_start + 125\n20  libsystem_pthread.dylib             0x00007ff81f74df6b thread_start + 15\n"
     ]
    }
   ],
   "source": [
    "jobs_block = driver.find_element(\"class\",'//*[@id=\"main\"]/div/section[1]/div')\n",
    "#jobs_list= jobs_block.find_elements(By.CSS_SELECTOR, '.jobs-search-results-list-item')"
   ]
  },
  {
   "cell_type": "code",
   "execution_count": null,
   "id": "e573cf45",
   "metadata": {},
   "outputs": [],
   "source": []
  }
 ],
 "metadata": {
  "kernelspec": {
   "display_name": "Python 3 (ipykernel)",
   "language": "python",
   "name": "python3"
  },
  "language_info": {
   "codemirror_mode": {
    "name": "ipython",
    "version": 3
   },
   "file_extension": ".py",
   "mimetype": "text/x-python",
   "name": "python",
   "nbconvert_exporter": "python",
   "pygments_lexer": "ipython3",
   "version": "3.9.7"
  }
 },
 "nbformat": 4,
 "nbformat_minor": 5
}
