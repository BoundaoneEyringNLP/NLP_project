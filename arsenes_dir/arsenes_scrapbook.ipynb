{
 "cells": [
  {
   "cell_type": "code",
   "execution_count": 1,
   "id": "67197d9a",
   "metadata": {},
   "outputs": [],
   "source": [
    "# Ignoring warning messages from python\n",
    "import warnings\n",
    "warnings.filterwarnings('ignore')\n",
    "\n",
    "# General use imports\n",
    "import pandas as pd\n",
    "import numpy as np\n",
    "import time\n",
    "import selenium\n",
    "\n",
    "# Visualization imports\n",
    "import matplotlib.pyplot as plt\n",
    "import seaborn as sns\n",
    "import plotly.graph_objects as go\n",
    "import plotly\n",
    "import plotly.express as px\n",
    "from plotly.subplots import make_subplots\n",
    "\n",
    "# Selenium imports\n",
    "from selenium import webdriver\n",
    "from selenium.webdriver.common.by import By\n",
    "from selenium.webdriver.support.ui import WebDriverWait\n",
    "from selenium.webdriver.support import expected_conditions as EC\n",
    "from selenium.webdriver.common.keys import Keys"
   ]
  },
  {
   "cell_type": "code",
   "execution_count": 2,
   "id": "3059c945",
   "metadata": {},
   "outputs": [],
   "source": [
    "# Driver's path for Selenium use\n",
    "\n",
    "path = '/Users/arsen/codeup_data_science/chromedriver'\n",
    "driver = webdriver.Chrome(path)"
   ]
  },
  {
   "cell_type": "code",
   "execution_count": 3,
   "id": "a3a4b3f2",
   "metadata": {},
   "outputs": [],
   "source": [
    "# Maximize Window and manipulate the window as human not as a computer\n",
    "driver.maximize_window() \n",
    "driver.minimize_window() \n",
    "driver.maximize_window() \n",
    "driver.switch_to.window(driver.current_window_handle)\n",
    "driver.implicitly_wait(5)"
   ]
  },
  {
   "cell_type": "code",
   "execution_count": 4,
   "id": "9be2bdbc",
   "metadata": {},
   "outputs": [],
   "source": [
    "# Enter to the LinkedIn site\n",
    "driver.get('https://www.linkedin.com/login');\n",
    "time.sleep(2)"
   ]
  },
  {
   "cell_type": "code",
   "execution_count": 5,
   "id": "2942c472",
   "metadata": {},
   "outputs": [],
   "source": [
    "# # If there were cookies we would accept them this way\n",
    "# # Path is hypothetical\n",
    "# driver.find_element_by_xpath('/html/body/div/main/div[1]/div/section/div/div[2]/button[2]').click()"
   ]
  },
  {
   "cell_type": "code",
   "execution_count": 6,
   "id": "a28b3018",
   "metadata": {
    "scrolled": true
   },
   "outputs": [],
   "source": [
    "# Connecting to our credentials\n",
    "# Reading txt file where we have our user credentials\n",
    "with open('credentials.txt', 'r',encoding=\"utf-8\") as file:\n",
    "    credentials = file.readlines(-1)\n",
    "    credentials = [line.rstrip() for line in credentials]\n",
    "    user_name = credentials[0] # First line\n",
    "    password = credentials[1] # Second line\n",
    "\n",
    "    driver.find_element('xpath', '//*[@id=\"username\"]').send_keys(user_name)\n",
    "    driver.find_element('xpath', '//*[@id=\"password\"]').send_keys(password)\n",
    "    time.sleep(1)"
   ]
  },
  {
   "cell_type": "code",
   "execution_count": 7,
   "id": "39b3132f",
   "metadata": {},
   "outputs": [],
   "source": [
    "# # Connecting to our credentials\n",
    "# # Reading txt file where we have our user credentials\n",
    "# # Printing the user_name and password shows what credentials is grabbing\n",
    "# with open('credentials.txt', 'r',encoding=\"utf-8\") as file:\n",
    "#     credentials = file.readlines(-1)\n",
    "#     credentials = [line.rstrip() for line in credentials]\n",
    "# user_name = credentials[0]\n",
    "# password = credentials[1]\n",
    "# print()\n",
    "# print()"
   ]
  },
  {
   "cell_type": "code",
   "execution_count": 8,
   "id": "0a44a295",
   "metadata": {},
   "outputs": [],
   "source": [
    "# Using the login button and waiting 30 seconds for page to fully load\n",
    "driver.find_element('xpath', '//*[@id=\"organic-div\"]/form/div[3]/button').click()\n",
    "driver.implicitly_wait(30)"
   ]
  },
  {
   "cell_type": "code",
   "execution_count": 9,
   "id": "4423440c",
   "metadata": {},
   "outputs": [],
   "source": [
    "# # Using the confirm button for account information\n",
    "# driver.find_element('xpath', '//*[@id=\"ember24\"]/button[1]').click()\n",
    "# driver.implicitly_wait(30)"
   ]
  },
  {
   "cell_type": "code",
   "execution_count": 10,
   "id": "e5b232bf",
   "metadata": {},
   "outputs": [],
   "source": [
    "# # Accessing to the Jobs button and clicking on it\n",
    "# # Seems like we don't need this\n",
    "# driver.find_element('xpath', '//*[@id=\"global-nav\"]/div/nav/ul/li[3]/a').click()\n",
    "# time.sleep(3)"
   ]
  },
  {
   "cell_type": "code",
   "execution_count": 11,
   "id": "0e1e0949",
   "metadata": {},
   "outputs": [],
   "source": [
    "# Accessing the search results directly via link\n",
    "url = 'https://www.linkedin.com/jobs/search/?currentJobId=3141778570&geoId=102396835&\\\n",
    "keywords=data%20analyst%2C%20data%20scientist%2C%20business%20analyst%2C%20machine%20learning%\\\n",
    "20engineer%2C%20data%20engineer&location=San%20Antonio%2C%20Texas%2C%20United%20States&refresh=true'\n",
    "driver.get(url)\n",
    "time.sleep(1)"
   ]
  },
  {
   "cell_type": "code",
   "execution_count": 12,
   "id": "d2f97e98",
   "metadata": {},
   "outputs": [],
   "source": [
    "# # Time for the for-loop\n",
    "# jobs_block = driver.find_element('xpath','jobs-search-results-list')\n",
    "# jobs_list = jobs_block.find_elements(By.CSS_SELECTOR, '.jobs-search-results__list-item')\n",
    "    \n",
    "# for job in jobs_list:\n",
    "#     all_links = job.find_elements_by_tag_name('a')\n",
    "#     for a in all_links:\n",
    "#         if str(a.get_attribute('href')).startswith(\"https://www.linkedin.com/jobs/view\") and a.get_attribute('href') not in links: \n",
    "#             links.append(a.get_attribute('href'))\n",
    "#         else:\n",
    "#             pass"
   ]
  },
  {
   "cell_type": "code",
   "execution_count": 13,
   "id": "046eb3ff",
   "metadata": {},
   "outputs": [],
   "source": [
    "# for job in jobs_list:\n",
    "#     all_links = job.find_elements_by_tag_name('a')\n",
    "#     for a in all_links:\n",
    "#         if str(a.get_attribute('href')).startswith(\"https://www.linkedin.com/jobs/view\") and a.get_attribute('href') not in links: \n",
    "#             links.append(a.get_attribute('href'))\n",
    "#         else:\n",
    "#             pass"
   ]
  },
  {
   "cell_type": "code",
   "execution_count": 14,
   "id": "b9eba692",
   "metadata": {},
   "outputs": [],
   "source": [
    "# for job in jobs_list:\n",
    "#     all_links = job.find_elements_by_tag_name('a')\n",
    "#     for a in all_links:\n",
    "#         if str(a.get_attribute('href')).startswith(\"https://www.linkedin.com/jobs/view\") and a.get_attribute('href') not in links: \n",
    "#             links.append(a.get_attribute('href'))\n",
    "#         else:\n",
    "#             pass"
   ]
  },
  {
   "cell_type": "code",
   "execution_count": 56,
   "id": "35dc9dd1",
   "metadata": {},
   "outputs": [
    {
     "name": "stdout",
     "output_type": "stream",
     "text": [
      "Links are being collected now.\n",
      "Found 0 links for job offers\n"
     ]
    }
   ],
   "source": [
    "#creating an empty list: \n",
    "links = []\n",
    "# Navigate 13 pages\n",
    "print('Links are being collected now.')\n",
    "try: \n",
    "    for page in range(2):\n",
    "        time.sleep(2)\n",
    "        jobs_block = driver.find_element(By.className('jobs-search-results-list'))\n",
    "        jobs_list = jobs_block.find_elements(By.cssSelector('#ember190'))\n",
    "        all_links = job.find_elements(By.ID, 'data-job-id')\n",
    "        for a in all_links:\n",
    "                if str(id.get_attribute('href')).startswith(\"https://www.linkedin.com/jobs/view\") and id.get_attribute('href') not in links: \n",
    "                    links.append(id.get_attribute('href'))\n",
    "                else:\n",
    "                    pass\n",
    "        # scroll down for each job element\n",
    "        driver.execute_script(\"arguments[0].scrollIntoView();\", job)\n",
    "        \n",
    "        print(f'Collecting the links in the page: {page-1}')\n",
    "        # go to next page:\n",
    "        driver.find_element(\"xpath\",f\"//button[@aria-label='Page {page}']\").click()\n",
    "        time.sleep(3)\n",
    "except:\n",
    "    pass\n",
    "print('Found ' + str(len(links)) + ' links for job offers')"
   ]
  },
  {
   "cell_type": "markdown",
   "id": "3caf2d90",
   "metadata": {},
   "source": [
    "- Tried:  \n",
    "    - cssSelector associated with id\n",
    "    - xpath associated with the xpath\n",
    "    - cssSelector associated with id variable (#ember190)\n",
    "    - className associated with the class name ('jobs-search-results-list')"
   ]
  },
  {
   "cell_type": "code",
   "execution_count": 43,
   "id": "da6a7a15",
   "metadata": {},
   "outputs": [
    {
     "name": "stdout",
     "output_type": "stream",
     "text": [
      "<selenium.webdriver.remote.webelement.WebElement (session=\"edee9dbd998ba555887b398e6c7bbd72\", element=\"943d3301-8f06-4308-b2c5-e0c862d31f76\")>\n"
     ]
    }
   ],
   "source": [
    "print(jobs_block)"
   ]
  },
  {
   "cell_type": "code",
   "execution_count": 53,
   "id": "aa56d95f",
   "metadata": {},
   "outputs": [
    {
     "name": "stdout",
     "output_type": "stream",
     "text": [
      "[]\n"
     ]
    }
   ],
   "source": [
    "print(jobs_list)"
   ]
  },
  {
   "cell_type": "code",
   "execution_count": 38,
   "id": "6db97273",
   "metadata": {},
   "outputs": [
    {
     "ename": "NameError",
     "evalue": "name 'all_links' is not defined",
     "output_type": "error",
     "traceback": [
      "\u001b[0;31m---------------------------------------------------------------------------\u001b[0m",
      "\u001b[0;31mNameError\u001b[0m                                 Traceback (most recent call last)",
      "\u001b[0;32m/var/folders/5k/zptdym41293159jft7y2b6cm0000gp/T/ipykernel_43720/1544259119.py\u001b[0m in \u001b[0;36m<module>\u001b[0;34m\u001b[0m\n\u001b[0;32m----> 1\u001b[0;31m \u001b[0mprint\u001b[0m\u001b[0;34m(\u001b[0m\u001b[0mall_links\u001b[0m\u001b[0;34m)\u001b[0m\u001b[0;34m\u001b[0m\u001b[0;34m\u001b[0m\u001b[0m\n\u001b[0m",
      "\u001b[0;31mNameError\u001b[0m: name 'all_links' is not defined"
     ]
    }
   ],
   "source": [
    "print(all_links)"
   ]
  }
 ],
 "metadata": {
  "kernelspec": {
   "display_name": "Python 3 (ipykernel)",
   "language": "python",
   "name": "python3"
  },
  "language_info": {
   "codemirror_mode": {
    "name": "ipython",
    "version": 3
   },
   "file_extension": ".py",
   "mimetype": "text/x-python",
   "name": "python",
   "nbconvert_exporter": "python",
   "pygments_lexer": "ipython3",
   "version": "3.9.7"
  }
 },
 "nbformat": 4,
 "nbformat_minor": 5
}
