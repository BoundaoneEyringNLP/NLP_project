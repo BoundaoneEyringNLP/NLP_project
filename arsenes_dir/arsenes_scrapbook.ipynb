{
 "cells": [
  {
   "cell_type": "code",
   "execution_count": 1,
   "id": "67197d9a",
   "metadata": {},
   "outputs": [],
   "source": [
    "# Ignoring warning messages from python\n",
    "import warnings\n",
    "warnings.filterwarnings('ignore')\n",
    "\n",
    "# General use imports\n",
    "import pandas as pd\n",
    "import numpy as np\n",
    "import time\n",
    "import selenium\n",
    "\n",
    "# Visualization imports\n",
    "import matplotlib.pyplot as plt\n",
    "import seaborn as sns\n",
    "import plotly.graph_objects as go\n",
    "import plotly\n",
    "import plotly.express as px\n",
    "from plotly.subplots import make_subplots\n",
    "\n",
    "# Selenium imports\n",
    "from selenium import webdriver\n",
    "from selenium.webdriver.common.by import By\n",
    "from selenium.webdriver.support.ui import WebDriverWait\n",
    "from selenium.webdriver.support import expected_conditions as EC\n",
    "from selenium.webdriver.common.keys import Keys"
   ]
  },
  {
   "cell_type": "code",
   "execution_count": 2,
   "id": "3059c945",
   "metadata": {},
   "outputs": [],
   "source": [
    "# Driver's path for Selenium use\n",
    "\n",
    "path = '/Users/arsen/codeup_data_science/chromedriver'\n",
    "driver = webdriver.Chrome(path)"
   ]
  },
  {
   "cell_type": "code",
   "execution_count": 3,
   "id": "a3a4b3f2",
   "metadata": {},
   "outputs": [],
   "source": [
    "# Maximize Window and manipulate the window as human not as a computer\n",
    "driver.maximize_window() \n",
    "driver.minimize_window() \n",
    "driver.maximize_window() \n",
    "driver.switch_to.window(driver.current_window_handle)\n",
    "driver.implicitly_wait(5)"
   ]
  },
  {
   "cell_type": "code",
   "execution_count": 4,
   "id": "9be2bdbc",
   "metadata": {},
   "outputs": [],
   "source": [
    "# Enter to the LinkedIn site\n",
    "driver.get('https://www.linkedin.com/login');\n",
    "time.sleep(2)"
   ]
  },
  {
   "cell_type": "code",
   "execution_count": 5,
   "id": "2942c472",
   "metadata": {},
   "outputs": [],
   "source": [
    "# # If there were cookies we would accept them this way\n",
    "# # Path is hypothetical\n",
    "# driver.find_element_by_xpath('/html/body/div/main/div[1]/div/section/div/div[2]/button[2]').click()"
   ]
  },
  {
   "cell_type": "code",
   "execution_count": 6,
   "id": "a28b3018",
   "metadata": {
    "scrolled": true
   },
   "outputs": [],
   "source": [
    "# Connecting to our credentials\n",
    "# Reading txt file where we have our user credentials\n",
    "with open('credentials.txt', 'r',encoding=\"utf-8\") as file:\n",
    "    credentials = file.readlines(-1)\n",
    "    credentials = [line.rstrip() for line in credentials]\n",
    "    user_name = credentials[0] # First line\n",
    "    password = credentials[1] # Second line\n",
    "\n",
    "    driver.find_element('xpath', '//*[@id=\"username\"]').send_keys(user_name)\n",
    "    driver.find_element('xpath', '//*[@id=\"password\"]').send_keys(password)\n",
    "    time.sleep(1)"
   ]
  },
  {
   "cell_type": "code",
   "execution_count": 7,
   "id": "39b3132f",
   "metadata": {},
   "outputs": [],
   "source": [
    "# # Connecting to our credentials\n",
    "# # Reading txt file where we have our user credentials\n",
    "# # Printing the user_name and password shows what credentials is grabbing\n",
    "# with open('credentials.txt', 'r',encoding=\"utf-8\") as file:\n",
    "#     credentials = file.readlines(-1)\n",
    "#     credentials = [line.rstrip() for line in credentials]\n",
    "# user_name = credentials[0]\n",
    "# password = credentials[1]\n",
    "# print()\n",
    "# print()"
   ]
  },
  {
   "cell_type": "code",
   "execution_count": 8,
   "id": "0a44a295",
   "metadata": {},
   "outputs": [],
   "source": [
    "# Using the login button and waiting 30 seconds for page to fully load\n",
    "driver.find_element('xpath', '//*[@id=\"organic-div\"]/form/div[3]/button').click()\n",
    "driver.implicitly_wait(30)"
   ]
  },
  {
   "cell_type": "code",
   "execution_count": 9,
   "id": "4423440c",
   "metadata": {},
   "outputs": [],
   "source": [
    "# # Using the confirm button for account information\n",
    "# driver.find_element('xpath', '//*[@id=\"ember24\"]/button[1]').click()\n",
    "# driver.implicitly_wait(30)"
   ]
  },
  {
   "cell_type": "code",
   "execution_count": 10,
   "id": "e5b232bf",
   "metadata": {},
   "outputs": [],
   "source": [
    "# # Accessing to the Jobs button and clicking on it\n",
    "# # Seems like we don't need this\n",
    "# driver.find_element('xpath', '//*[@id=\"global-nav\"]/div/nav/ul/li[3]/a').click()\n",
    "# time.sleep(3)"
   ]
  },
  {
   "cell_type": "code",
   "execution_count": 11,
   "id": "0e1e0949",
   "metadata": {},
   "outputs": [],
   "source": [
    "# Accessing the search results directly via link\n",
    "url = 'https://www.linkedin.com/jobs/search/?currentJobId=3141778570&geoId=102396835&\\\n",
    "keywords=data%20analyst%2C%20data%20scientist%2C%20business%20analyst%2C%20machine%20learning%\\\n",
    "20engineer%2C%20data%20engineer&location=San%20Antonio%2C%20Texas%2C%20United%20States&refresh=true'\n",
    "driver.get(url)\n",
    "time.sleep(1)"
   ]
  },
  {
   "cell_type": "code",
   "execution_count": 12,
   "id": "d2f97e98",
   "metadata": {},
   "outputs": [
    {
     "ename": "NoSuchElementException",
     "evalue": "Message: no such element: Unable to locate element: {\"method\":\"xpath\",\"selector\":\"jobs-search-results-list\"}\n  (Session info: chrome=105.0.5195.125)\nStacktrace:\n0   chromedriver                        0x0000000104575a90 chromedriver + 3889808\n1   chromedriver                        0x0000000104504b54 chromedriver + 3427156\n2   chromedriver                        0x00000001041f6238 chromedriver + 221752\n3   chromedriver                        0x00000001042274c8 chromedriver + 423112\n4   chromedriver                        0x0000000104250944 chromedriver + 592196\n5   chromedriver                        0x000000010421c54c chromedriver + 378188\n6   chromedriver                        0x00000001045492f8 chromedriver + 3707640\n7   chromedriver                        0x000000010454cea8 chromedriver + 3722920\n8   chromedriver                        0x00000001045533d8 chromedriver + 3748824\n9   chromedriver                        0x000000010454d9a8 chromedriver + 3725736\n10  chromedriver                        0x0000000104528de8 chromedriver + 3575272\n11  chromedriver                        0x0000000104567d1c chromedriver + 3833116\n12  chromedriver                        0x0000000104567e84 chromedriver + 3833476\n13  chromedriver                        0x000000010457c210 chromedriver + 3916304\n14  libsystem_pthread.dylib             0x00000001a13dc26c _pthread_start + 148\n15  libsystem_pthread.dylib             0x00000001a13d708c thread_start + 8\n",
     "output_type": "error",
     "traceback": [
      "\u001b[0;31m---------------------------------------------------------------------------\u001b[0m",
      "\u001b[0;31mNoSuchElementException\u001b[0m                    Traceback (most recent call last)",
      "\u001b[0;32m/var/folders/5k/zptdym41293159jft7y2b6cm0000gp/T/ipykernel_42048/3977832450.py\u001b[0m in \u001b[0;36m<module>\u001b[0;34m\u001b[0m\n\u001b[1;32m      1\u001b[0m \u001b[0;31m# Time for the for-loop\u001b[0m\u001b[0;34m\u001b[0m\u001b[0;34m\u001b[0m\u001b[0m\n\u001b[0;32m----> 2\u001b[0;31m \u001b[0mjobs_block\u001b[0m \u001b[0;34m=\u001b[0m \u001b[0mdriver\u001b[0m\u001b[0;34m.\u001b[0m\u001b[0mfind_element\u001b[0m\u001b[0;34m(\u001b[0m\u001b[0;34m'xpath'\u001b[0m\u001b[0;34m,\u001b[0m\u001b[0;34m'jobs-search-results-list'\u001b[0m\u001b[0;34m)\u001b[0m\u001b[0;34m\u001b[0m\u001b[0;34m\u001b[0m\u001b[0m\n\u001b[0m\u001b[1;32m      3\u001b[0m \u001b[0mjobs_list\u001b[0m \u001b[0;34m=\u001b[0m \u001b[0mjobs_block\u001b[0m\u001b[0;34m.\u001b[0m\u001b[0mfind_elements\u001b[0m\u001b[0;34m(\u001b[0m\u001b[0mBy\u001b[0m\u001b[0;34m.\u001b[0m\u001b[0mCSS_SELECTOR\u001b[0m\u001b[0;34m,\u001b[0m \u001b[0;34m'.jobs-search-results__list-item'\u001b[0m\u001b[0;34m)\u001b[0m\u001b[0;34m\u001b[0m\u001b[0;34m\u001b[0m\u001b[0m\n\u001b[1;32m      4\u001b[0m \u001b[0;34m\u001b[0m\u001b[0m\n\u001b[1;32m      5\u001b[0m \u001b[0;32mfor\u001b[0m \u001b[0mjob\u001b[0m \u001b[0;32min\u001b[0m \u001b[0mjobs_list\u001b[0m\u001b[0;34m:\u001b[0m\u001b[0;34m\u001b[0m\u001b[0;34m\u001b[0m\u001b[0m\n",
      "\u001b[0;32m/opt/homebrew/anaconda3/lib/python3.9/site-packages/selenium/webdriver/remote/webdriver.py\u001b[0m in \u001b[0;36mfind_element\u001b[0;34m(self, by, value)\u001b[0m\n\u001b[1;32m    853\u001b[0m             \u001b[0mvalue\u001b[0m \u001b[0;34m=\u001b[0m \u001b[0;34m'[name=\"%s\"]'\u001b[0m \u001b[0;34m%\u001b[0m \u001b[0mvalue\u001b[0m\u001b[0;34m\u001b[0m\u001b[0;34m\u001b[0m\u001b[0m\n\u001b[1;32m    854\u001b[0m \u001b[0;34m\u001b[0m\u001b[0m\n\u001b[0;32m--> 855\u001b[0;31m         return self.execute(Command.FIND_ELEMENT, {\n\u001b[0m\u001b[1;32m    856\u001b[0m             \u001b[0;34m'using'\u001b[0m\u001b[0;34m:\u001b[0m \u001b[0mby\u001b[0m\u001b[0;34m,\u001b[0m\u001b[0;34m\u001b[0m\u001b[0;34m\u001b[0m\u001b[0m\n\u001b[1;32m    857\u001b[0m             'value': value})['value']\n",
      "\u001b[0;32m/opt/homebrew/anaconda3/lib/python3.9/site-packages/selenium/webdriver/remote/webdriver.py\u001b[0m in \u001b[0;36mexecute\u001b[0;34m(self, driver_command, params)\u001b[0m\n\u001b[1;32m    426\u001b[0m         \u001b[0mresponse\u001b[0m \u001b[0;34m=\u001b[0m \u001b[0mself\u001b[0m\u001b[0;34m.\u001b[0m\u001b[0mcommand_executor\u001b[0m\u001b[0;34m.\u001b[0m\u001b[0mexecute\u001b[0m\u001b[0;34m(\u001b[0m\u001b[0mdriver_command\u001b[0m\u001b[0;34m,\u001b[0m \u001b[0mparams\u001b[0m\u001b[0;34m)\u001b[0m\u001b[0;34m\u001b[0m\u001b[0;34m\u001b[0m\u001b[0m\n\u001b[1;32m    427\u001b[0m         \u001b[0;32mif\u001b[0m \u001b[0mresponse\u001b[0m\u001b[0;34m:\u001b[0m\u001b[0;34m\u001b[0m\u001b[0;34m\u001b[0m\u001b[0m\n\u001b[0;32m--> 428\u001b[0;31m             \u001b[0mself\u001b[0m\u001b[0;34m.\u001b[0m\u001b[0merror_handler\u001b[0m\u001b[0;34m.\u001b[0m\u001b[0mcheck_response\u001b[0m\u001b[0;34m(\u001b[0m\u001b[0mresponse\u001b[0m\u001b[0;34m)\u001b[0m\u001b[0;34m\u001b[0m\u001b[0;34m\u001b[0m\u001b[0m\n\u001b[0m\u001b[1;32m    429\u001b[0m             response['value'] = self._unwrap_value(\n\u001b[1;32m    430\u001b[0m                 response.get('value', None))\n",
      "\u001b[0;32m/opt/homebrew/anaconda3/lib/python3.9/site-packages/selenium/webdriver/remote/errorhandler.py\u001b[0m in \u001b[0;36mcheck_response\u001b[0;34m(self, response)\u001b[0m\n\u001b[1;32m    241\u001b[0m                 \u001b[0malert_text\u001b[0m \u001b[0;34m=\u001b[0m \u001b[0mvalue\u001b[0m\u001b[0;34m[\u001b[0m\u001b[0;34m'alert'\u001b[0m\u001b[0;34m]\u001b[0m\u001b[0;34m.\u001b[0m\u001b[0mget\u001b[0m\u001b[0;34m(\u001b[0m\u001b[0;34m'text'\u001b[0m\u001b[0;34m)\u001b[0m\u001b[0;34m\u001b[0m\u001b[0;34m\u001b[0m\u001b[0m\n\u001b[1;32m    242\u001b[0m             \u001b[0;32mraise\u001b[0m \u001b[0mexception_class\u001b[0m\u001b[0;34m(\u001b[0m\u001b[0mmessage\u001b[0m\u001b[0;34m,\u001b[0m \u001b[0mscreen\u001b[0m\u001b[0;34m,\u001b[0m \u001b[0mstacktrace\u001b[0m\u001b[0;34m,\u001b[0m \u001b[0malert_text\u001b[0m\u001b[0;34m)\u001b[0m  \u001b[0;31m# type: ignore[call-arg]  # mypy is not smart enough here\u001b[0m\u001b[0;34m\u001b[0m\u001b[0;34m\u001b[0m\u001b[0m\n\u001b[0;32m--> 243\u001b[0;31m         \u001b[0;32mraise\u001b[0m \u001b[0mexception_class\u001b[0m\u001b[0;34m(\u001b[0m\u001b[0mmessage\u001b[0m\u001b[0;34m,\u001b[0m \u001b[0mscreen\u001b[0m\u001b[0;34m,\u001b[0m \u001b[0mstacktrace\u001b[0m\u001b[0;34m)\u001b[0m\u001b[0;34m\u001b[0m\u001b[0;34m\u001b[0m\u001b[0m\n\u001b[0m",
      "\u001b[0;31mNoSuchElementException\u001b[0m: Message: no such element: Unable to locate element: {\"method\":\"xpath\",\"selector\":\"jobs-search-results-list\"}\n  (Session info: chrome=105.0.5195.125)\nStacktrace:\n0   chromedriver                        0x0000000104575a90 chromedriver + 3889808\n1   chromedriver                        0x0000000104504b54 chromedriver + 3427156\n2   chromedriver                        0x00000001041f6238 chromedriver + 221752\n3   chromedriver                        0x00000001042274c8 chromedriver + 423112\n4   chromedriver                        0x0000000104250944 chromedriver + 592196\n5   chromedriver                        0x000000010421c54c chromedriver + 378188\n6   chromedriver                        0x00000001045492f8 chromedriver + 3707640\n7   chromedriver                        0x000000010454cea8 chromedriver + 3722920\n8   chromedriver                        0x00000001045533d8 chromedriver + 3748824\n9   chromedriver                        0x000000010454d9a8 chromedriver + 3725736\n10  chromedriver                        0x0000000104528de8 chromedriver + 3575272\n11  chromedriver                        0x0000000104567d1c chromedriver + 3833116\n12  chromedriver                        0x0000000104567e84 chromedriver + 3833476\n13  chromedriver                        0x000000010457c210 chromedriver + 3916304\n14  libsystem_pthread.dylib             0x00000001a13dc26c _pthread_start + 148\n15  libsystem_pthread.dylib             0x00000001a13d708c thread_start + 8\n"
     ]
    }
   ],
   "source": [
    "# Time for the for-loop\n",
    "jobs_block = driver.find_element('xpath','jobs-search-results-list')\n",
    "jobs_list = jobs_block.find_elements(By.CSS_SELECTOR, '.jobs-search-results__list-item')\n",
    "    \n",
    "for job in jobs_list:\n",
    "    all_links = job.find_elements_by_tag_name('a')\n",
    "    for a in all_links:\n",
    "        if str(a.get_attribute('href')).startswith(\"https://www.linkedin.com/jobs/view\") and a.get_attribute('href') not in links: \n",
    "            links.append(a.get_attribute('href'))\n",
    "        else:\n",
    "            pass"
   ]
  },
  {
   "cell_type": "code",
   "execution_count": null,
   "id": "046eb3ff",
   "metadata": {},
   "outputs": [],
   "source": [
    "# for job in jobs_list:\n",
    "#     all_links = job.find_elements_by_tag_name('a')\n",
    "#     for a in all_links:\n",
    "#         if str(a.get_attribute('href')).startswith(\"https://www.linkedin.com/jobs/view\") and a.get_attribute('href') not in links: \n",
    "#             links.append(a.get_attribute('href'))\n",
    "#         else:\n",
    "#             pass"
   ]
  },
  {
   "cell_type": "code",
   "execution_count": null,
   "id": "b9eba692",
   "metadata": {},
   "outputs": [],
   "source": [
    "# for job in jobs_list:\n",
    "#     all_links = job.find_elements_by_tag_name('a')\n",
    "#     for a in all_links:\n",
    "#         if str(a.get_attribute('href')).startswith(\"https://www.linkedin.com/jobs/view\") and a.get_attribute('href') not in links: \n",
    "#             links.append(a.get_attribute('href'))\n",
    "#         else:\n",
    "#             pass"
   ]
  },
  {
   "cell_type": "code",
   "execution_count": null,
   "id": "a2de2abc",
   "metadata": {},
   "outputs": [],
   "source": [
    "#creating an empty list: \n",
    "links = []\n",
    "# Navigate 13 pages\n",
    "print('Links are being collected now.')\n",
    "try: \n",
    "    for page in range(2,3):\n",
    "        time.sleep(2)\n",
    "        jobs_block = driver.find_element(\"xpath\",'//*[@id=\"main\"]/div/section[1]/div/ul')\n",
    "        jobs_list= jobs_block.find_elements(By.CSS_SELECTOR, '.jobs-search-results-list-item')\n",
    "    \n",
    "        for job in jobs_list:\n",
    "            all_links = job.find_elements(By.CSS_SELECTOR,'a')\n",
    "            for a in all_links:\n",
    "                if str(a.get_attribute('href')).startswith(\"https://www.linkedin.com/jobs/view\") and a.get_attribute('href') not in links: \n",
    "                    links.append(a.get_attribute('href'))\n",
    "                else:\n",
    "                    pass\n",
    "            # scroll down for each job element\n",
    "            driver.execute_script(\"arguments[0].scrollIntoView();\", job)\n",
    "        \n",
    "        print(f'Collecting the links in the page: {page-1}')\n",
    "        # go to next page:\n",
    "        driver.find_element(\"xpath\",f\"//button[@aria-label='Page {page}']\").click()\n",
    "        time.sleep(3)\n",
    "except:\n",
    "    pass\n",
    "print('Found ' + str(len(links)) + ' links for job offers')"
   ]
  }
 ],
 "metadata": {
  "kernelspec": {
   "display_name": "Python 3 (ipykernel)",
   "language": "python",
   "name": "python3"
  },
  "language_info": {
   "codemirror_mode": {
    "name": "ipython",
    "version": 3
   },
   "file_extension": ".py",
   "mimetype": "text/x-python",
   "name": "python",
   "nbconvert_exporter": "python",
   "pygments_lexer": "ipython3",
   "version": "3.9.7"
  }
 },
 "nbformat": 4,
 "nbformat_minor": 5
}
