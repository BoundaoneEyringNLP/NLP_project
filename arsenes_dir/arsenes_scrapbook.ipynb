{
 "cells": [
  {
   "cell_type": "code",
   "execution_count": 1,
   "id": "67197d9a",
   "metadata": {},
   "outputs": [],
   "source": [
    "# Ignoring warning messages from python\n",
    "import warnings\n",
    "warnings.filterwarnings('ignore')\n",
    "\n",
    "# General use imports\n",
    "import pandas as pd\n",
    "import numpy as np\n",
    "import time\n",
    "import selenium\n",
    "\n",
    "# Visualization imports\n",
    "import matplotlib.pyplot as plt\n",
    "import seaborn as sns\n",
    "import plotly.graph_objects as go\n",
    "import plotly\n",
    "import plotly.express as px\n",
    "from plotly.subplots import make_subplots\n",
    "\n",
    "# Selenium imports\n",
    "from selenium import webdriver\n",
    "from selenium.webdriver.common.by import By\n",
    "from selenium.webdriver.support.ui import WebDriverWait\n",
    "from selenium.webdriver.support import expected_conditions as EC\n",
    "from selenium.webdriver.common.keys import Keys"
   ]
  },
  {
   "cell_type": "code",
   "execution_count": 2,
   "id": "3059c945",
   "metadata": {},
   "outputs": [],
   "source": [
    "# Driver's path for Selenium use\n",
    "\n",
    "path = '/Users/arsen/codeup_data_science/chromedriver'\n",
    "driver = webdriver.Chrome(path)"
   ]
  },
  {
   "cell_type": "code",
   "execution_count": 3,
   "id": "a3a4b3f2",
   "metadata": {},
   "outputs": [],
   "source": [
    "# Maximize Window and manipulate the window as human not as a computer\n",
    "driver.maximize_window() \n",
    "driver.minimize_window() \n",
    "driver.maximize_window() \n",
    "driver.switch_to.window(driver.current_window_handle)\n",
    "driver.implicitly_wait(5)"
   ]
  },
  {
   "cell_type": "code",
   "execution_count": 4,
   "id": "9be2bdbc",
   "metadata": {},
   "outputs": [],
   "source": [
    "# Enter to the LinkedIn site\n",
    "driver.get('https://www.linkedin.com/login');\n",
    "time.sleep(2)"
   ]
  },
  {
   "cell_type": "code",
   "execution_count": 5,
   "id": "2942c472",
   "metadata": {},
   "outputs": [],
   "source": [
    "# # If there were cookies we would accept them this way\n",
    "# # Path is hypothetical\n",
    "# driver.find_element_by_xpath('/html/body/div/main/div[1]/div/section/div/div[2]/button[2]').click()"
   ]
  },
  {
   "cell_type": "code",
   "execution_count": 6,
   "id": "a28b3018",
   "metadata": {
    "scrolled": true
   },
   "outputs": [],
   "source": [
    "# Connecting to our credentials\n",
    "# Reading txt file where we have our user credentials\n",
    "with open('credentials.txt', 'r',encoding=\"utf-8\") as file:\n",
    "    credentials = file.readlines(-1)\n",
    "    credentials = [line.rstrip() for line in credentials]\n",
    "    user_name = credentials[0] # First line\n",
    "    password = credentials[1] # Second line\n",
    "\n",
    "    driver.find_element('xpath', '//*[@id=\"username\"]').send_keys(user_name)\n",
    "    driver.find_element('xpath', '//*[@id=\"password\"]').send_keys(password)\n",
    "    time.sleep(1)"
   ]
  },
  {
   "cell_type": "code",
   "execution_count": 7,
   "id": "39b3132f",
   "metadata": {},
   "outputs": [],
   "source": [
    "# # Connecting to our credentials\n",
    "# # Reading txt file where we have our user credentials\n",
    "# # Printing the user_name and password shows what credentials is grabbing\n",
    "# with open('credentials.txt', 'r',encoding=\"utf-8\") as file:\n",
    "#     credentials = file.readlines(-1)\n",
    "#     credentials = [line.rstrip() for line in credentials]\n",
    "# user_name = credentials[0]\n",
    "# password = credentials[1]\n",
    "# print()\n",
    "# print()"
   ]
  },
  {
   "cell_type": "code",
   "execution_count": 8,
   "id": "0a44a295",
   "metadata": {},
   "outputs": [],
   "source": [
    "# Using the login button and waiting 30 seconds for page to fully load\n",
    "driver.find_element('xpath', '//*[@id=\"organic-div\"]/form/div[3]/button').click()\n",
    "driver.implicitly_wait(30)"
   ]
  },
  {
   "cell_type": "code",
   "execution_count": 9,
   "id": "4423440c",
   "metadata": {},
   "outputs": [],
   "source": [
    "# # Using the confirm button for account information\n",
    "# driver.find_element('xpath', '//*[@id=\"ember24\"]/button[1]').click()\n",
    "# driver.implicitly_wait(30)"
   ]
  },
  {
   "cell_type": "code",
   "execution_count": 10,
   "id": "e5b232bf",
   "metadata": {},
   "outputs": [],
   "source": [
    "# # Accessing to the Jobs button and clicking on it\n",
    "# # Seems like we don't need this\n",
    "# driver.find_element('xpath', '//*[@id=\"global-nav\"]/div/nav/ul/li[3]/a').click()\n",
    "# time.sleep(3)"
   ]
  },
  {
   "cell_type": "code",
   "execution_count": 11,
   "id": "0e1e0949",
   "metadata": {},
   "outputs": [],
   "source": [
    "# Accessing the search results directly via link\n",
    "url = 'https://www.linkedin.com/jobs/search/?currentJobId=3290775420&geoId=102396835&keywords=data%\\\n",
    "20scientist&location=San%20Antonio%2C%20Texas%2C%20United%20States&refresh=true'\n",
    "driver.get(url)\n",
    "time.sleep(1)"
   ]
  },
  {
   "cell_type": "code",
   "execution_count": 12,
   "id": "d2f97e98",
   "metadata": {},
   "outputs": [],
   "source": [
    "# # Time for the for-loop\n",
    "# jobs_block = driver.find_element('xpath','jobs-search-results-list')\n",
    "# jobs_list = jobs_block.find_elements(By.CSS_SELECTOR, '.jobs-search-results__list-item')\n",
    "    \n",
    "# for job in jobs_list:\n",
    "#     all_links = job.find_elements_by_tag_name('a')\n",
    "#     for a in all_links:\n",
    "#         if str(a.get_attribute('href')).startswith(\"https://www.linkedin.com/jobs/view\") and a.get_attribute('href') not in links: \n",
    "#             links.append(a.get_attribute('href'))\n",
    "#         else:\n",
    "#             pass"
   ]
  },
  {
   "cell_type": "code",
   "execution_count": 13,
   "id": "046eb3ff",
   "metadata": {},
   "outputs": [],
   "source": [
    "# for job in jobs_list:\n",
    "#     all_links = job.find_elements_by_tag_name('a')\n",
    "#     for a in all_links:\n",
    "#         if str(a.get_attribute('href')).startswith(\"https://www.linkedin.com/jobs/view\") and a.get_attribute('href') not in links: \n",
    "#             links.append(a.get_attribute('href'))\n",
    "#         else:\n",
    "#             pass"
   ]
  },
  {
   "cell_type": "code",
   "execution_count": 14,
   "id": "b9eba692",
   "metadata": {},
   "outputs": [],
   "source": [
    "# for job in jobs_list:\n",
    "#     all_links = job.find_elements_by_tag_name('a')\n",
    "#     for a in all_links:\n",
    "#         if str(a.get_attribute('href')).startswith(\"https://www.linkedin.com/jobs/view\") and a.get_attribute('href') not in links: \n",
    "#             links.append(a.get_attribute('href'))\n",
    "#         else:\n",
    "#             pass"
   ]
  },
  {
   "cell_type": "code",
   "execution_count": 34,
   "id": "81fb9fc8",
   "metadata": {},
   "outputs": [
    {
     "name": "stdout",
     "output_type": "stream",
     "text": [
      "Links are being collected now.\n",
      "Found 0 links for job offers\n"
     ]
    }
   ],
   "source": [
    "# Creating an empty list: \n",
    "links = []\n",
    "# Navigating 25 jobslots\n",
    "print('Links are being collected now.')\n",
    "try: \n",
    "    for page in range(2, 14, 1):\n",
    "        time.sleep(4)\n",
    "        jobs_block = driver.find_element(By.CLASS_NAME, 'scaffold-layout__list-container')\n",
    "        jobs_lists = jobs_block.find_elements(By.CSS_SELECTOR, 'li.ember-view.jobs-search-results__list-item')\n",
    "#         job-card-container.relative.job-card-list.job-card-container--clickable\n",
    "        for job in jobs_lists:\n",
    "#           all_links = jobs_lists.find_elements(By.CSS_SELECTOR, 'a') //*[@id=\"ember199\"]\n",
    "            all_links = jobs_lists.find_elements('xpath', '/html/body/div[5]/div[3]/div[4]/div/div/main/div/section[1]/div/ul/li[2]/div/div[1]/div[1]/div[1]/a')\n",
    "#           /html/body/div[5]/div[3]/div[4]/div/div/main/div/section[1]/div/ul/li[2]/div/div[1]/div[1]/div[1]/a\n",
    "            for a in all_links:\n",
    "                if str(a.get_attribute('href')).startswith('/jobs/view') and a.get_attribute('href') not in links: \n",
    "#                     https://www.linkedin.com\n",
    "                    links.append(a.get_attribute('href'))\n",
    "                else:\n",
    "                    pass\n",
    "            # scroll down for each job element\n",
    "            driver.execute_Script('arguments[0].scrollIntoView();', job)\n",
    "\n",
    "        print(f'Collecting the links in the page: {page-1}')\n",
    "        # go to next page:\n",
    "        driver.find_element('xpath', f\"//button[@aria-label='Page {page}']\").click()\n",
    "        time.sleep(3)\n",
    "except:\n",
    "    pass\n",
    "print('Found ' + str(len(links)) + ' links for job offers')"
   ]
  },
  {
   "cell_type": "code",
   "execution_count": 17,
   "id": "7f128415",
   "metadata": {},
   "outputs": [],
   "source": [
    "# for jobslots in range(3, 26, 1):\n",
    "#     time.sleep(4)\n",
    "#     jobs_group = driver.find_element(By.CLASS_NAME, 'jobs-search-results-list')\n",
    "#     jobs_list = jobs_group.find_elements(By.CSS_SELECTOR('.jobs-search-results__list-item'))\n",
    "# print(jobs_group)\n",
    "# print(jobs_list)"
   ]
  },
  {
   "cell_type": "code",
   "execution_count": 23,
   "id": "7da45957",
   "metadata": {},
   "outputs": [
    {
     "name": "stdout",
     "output_type": "stream",
     "text": [
      "<selenium.webdriver.remote.webelement.WebElement (session=\"26031781c7839da743a9a3ffdc3396e1\", element=\"27fb37fa-34ac-4b69-a140-8bd576e739f3\")>\n"
     ]
    }
   ],
   "source": [
    "print(jobs_block)"
   ]
  },
  {
   "cell_type": "code",
   "execution_count": 22,
   "id": "d438d658",
   "metadata": {},
   "outputs": [
    {
     "name": "stdout",
     "output_type": "stream",
     "text": [
      "[<selenium.webdriver.remote.webelement.WebElement (session=\"26031781c7839da743a9a3ffdc3396e1\", element=\"e82deac2-0438-4ca2-8745-9edf4d3a449c\")>, <selenium.webdriver.remote.webelement.WebElement (session=\"26031781c7839da743a9a3ffdc3396e1\", element=\"2a763ae2-89e4-495e-959d-a28f19b23e52\")>, <selenium.webdriver.remote.webelement.WebElement (session=\"26031781c7839da743a9a3ffdc3396e1\", element=\"905559f2-2a29-455a-bfd1-c702bd076feb\")>, <selenium.webdriver.remote.webelement.WebElement (session=\"26031781c7839da743a9a3ffdc3396e1\", element=\"682e8e98-e965-4400-9d13-dc28bf6bdc0f\")>, <selenium.webdriver.remote.webelement.WebElement (session=\"26031781c7839da743a9a3ffdc3396e1\", element=\"a2121ca5-aa77-47e6-9651-07e70e7d852b\")>, <selenium.webdriver.remote.webelement.WebElement (session=\"26031781c7839da743a9a3ffdc3396e1\", element=\"608cce12-2123-4888-9ee2-d7f802131187\")>, <selenium.webdriver.remote.webelement.WebElement (session=\"26031781c7839da743a9a3ffdc3396e1\", element=\"2f9665f4-fb5a-4e11-8f0e-2012d6ec56a0\")>, <selenium.webdriver.remote.webelement.WebElement (session=\"26031781c7839da743a9a3ffdc3396e1\", element=\"41a152f8-a3a9-4fb3-b1d8-c21828c88b9d\")>, <selenium.webdriver.remote.webelement.WebElement (session=\"26031781c7839da743a9a3ffdc3396e1\", element=\"75a15603-ff5d-4b3e-b7dc-1022212bddb7\")>, <selenium.webdriver.remote.webelement.WebElement (session=\"26031781c7839da743a9a3ffdc3396e1\", element=\"16a46f25-b631-46f0-9d9e-899d1bffae7a\")>, <selenium.webdriver.remote.webelement.WebElement (session=\"26031781c7839da743a9a3ffdc3396e1\", element=\"19f26b66-5a18-4d0b-afb0-bbbb5ba7ae2e\")>, <selenium.webdriver.remote.webelement.WebElement (session=\"26031781c7839da743a9a3ffdc3396e1\", element=\"d259bf07-11a6-46ac-9aca-3fa74fb8101f\")>, <selenium.webdriver.remote.webelement.WebElement (session=\"26031781c7839da743a9a3ffdc3396e1\", element=\"83df8a69-1ef5-4ad6-ba02-76de3a21923e\")>, <selenium.webdriver.remote.webelement.WebElement (session=\"26031781c7839da743a9a3ffdc3396e1\", element=\"a8b79248-fdfa-40fc-8e46-06fff7e9d85a\")>, <selenium.webdriver.remote.webelement.WebElement (session=\"26031781c7839da743a9a3ffdc3396e1\", element=\"c8bcf0e2-d4e8-4f16-aa62-bbde3ed52645\")>, <selenium.webdriver.remote.webelement.WebElement (session=\"26031781c7839da743a9a3ffdc3396e1\", element=\"0291fdf2-bb4c-42e3-b983-790f632bc620\")>, <selenium.webdriver.remote.webelement.WebElement (session=\"26031781c7839da743a9a3ffdc3396e1\", element=\"30f13964-08ad-41a6-9de8-f929ca4968aa\")>, <selenium.webdriver.remote.webelement.WebElement (session=\"26031781c7839da743a9a3ffdc3396e1\", element=\"80bf5d2d-94b5-4372-877f-9743a0011a70\")>, <selenium.webdriver.remote.webelement.WebElement (session=\"26031781c7839da743a9a3ffdc3396e1\", element=\"3e224422-8f3a-468a-b8db-db4373167833\")>, <selenium.webdriver.remote.webelement.WebElement (session=\"26031781c7839da743a9a3ffdc3396e1\", element=\"1ba7b442-86c4-492e-9471-0286a8b284c6\")>, <selenium.webdriver.remote.webelement.WebElement (session=\"26031781c7839da743a9a3ffdc3396e1\", element=\"667e44ce-8892-42b5-b656-a22c3038a2c2\")>, <selenium.webdriver.remote.webelement.WebElement (session=\"26031781c7839da743a9a3ffdc3396e1\", element=\"bdcf6170-20b5-45fc-b84e-c7cde677cfbf\")>, <selenium.webdriver.remote.webelement.WebElement (session=\"26031781c7839da743a9a3ffdc3396e1\", element=\"6f0ecbc0-8474-4da2-a10e-637bf6a94b29\")>, <selenium.webdriver.remote.webelement.WebElement (session=\"26031781c7839da743a9a3ffdc3396e1\", element=\"fa25caf0-9641-4652-aafc-2eaef4aedefa\")>, <selenium.webdriver.remote.webelement.WebElement (session=\"26031781c7839da743a9a3ffdc3396e1\", element=\"0e67c622-4bd0-4096-b8ce-c44015230d0c\")>]\n"
     ]
    }
   ],
   "source": [
    "print(jobs_lists)"
   ]
  },
  {
   "cell_type": "code",
   "execution_count": 28,
   "id": "818686aa",
   "metadata": {},
   "outputs": [
    {
     "name": "stdout",
     "output_type": "stream",
     "text": [
      "[]\n"
     ]
    }
   ],
   "source": [
    "print(all_links)"
   ]
  },
  {
   "cell_type": "markdown",
   "id": "02f4a9da",
   "metadata": {},
   "source": [
    "- Tried:  \n",
    "    - cssSelector associated with id\n",
    "    - xpath associated with the xpath ('//*[@id=\"main\"]/div/section[1]/div/ul') for jobs_block\n",
    "    - cssSelector associated with id variable (#ember190)\n",
    "    - className associated with the class name ('jobs-search-results-list')\n",
    "    - By.ID with 'data-job-id'\n",
    "    - Today 10/2 tried this:\n",
    "    #creating an empty list: \n",
    "links = []\n",
    "#### Navigate 13 pages\n",
    "print('Links are being collected now.')\n",
    "try: \n",
    "    for page in range(0, 14, 1):\n",
    "        time.sleep(4)\n",
    "        jobs_block = driver.find_element(By.CLASS_NAME('scaffold-layout__list-container'))\n",
    "        jobs_list = jobs_block.find_elements(By.ID('ember-view   jobs-search-results__list-item occludable-update p0 relative scaffold-layout__list-item'))\n",
    "        for job in jobs_list:\n",
    "            all_links = job.find_elements(By.TAG_NAME, 'a')\n",
    "            for a in all_links:\n",
    "                if str(a.get_attribute('href')).startswith('/jobs/view') and a.get_attribute('href') not in links: \n",
    "                    links.append(a.get_attribute('href'))\n",
    "                else:\n",
    "                    pass\n",
    "            # scroll down for each job element\n",
    "            driver.execute_Script('arguments[0].scrollIntoView();', job)\n",
    "        \n",
    "        print(f'Collecting the links in the page: {page-1}')\n",
    "        ##### go to next page:\n",
    "        driver.find_element('xpath', f\"//button[@aria-label='Page {page}']\").click() #//*[@id=\"ember1634\"]/button\n",
    "        time.sleep(3)\n",
    "except:\n",
    "    pass\n",
    "print('Found ' + str(len(links)) + ' links for job offers')  \n",
    "\n",
    "\n",
    "   - I am gonna modify elements by elements from here to see what happens. Next try:  \n",
    "   \n",
    "   #creating an empty list: \n",
    "links = []\n",
    "#### Navigate 13 pages\n",
    "print('Links are being collected now.')\n",
    "try: \n",
    "    for page in range(3, 14, 1):\n",
    "        time.sleep(4)\n",
    "        jobs_block = driver.find_element(By.CLASS_NAME('jobs-search-results-list'))\n",
    "        jobs_list = jobs_block.find_elements(By.ID('.jobs-search-results__list-item'))\n",
    "        for job in jobs_list:\n",
    "            all_links = job.find_elements(By.TAG_NAME, 'a')\n",
    "            for a in all_links:\n",
    "                if str(a.get_attribute('href')).startswith('https://www.linkedin.com/jobs/view') and a.get_attribute('href') not in links: \n",
    "                    links.append(a.get_attribute('href'))\n",
    "                else:\n",
    "                    pass\n",
    "            # scroll down for each job element\n",
    "            driver.execute_Script('arguments[0].scrollIntoView();', job)\n",
    "        \n",
    "        print(f'Collecting the links in the page: {page-1}')\n",
    "        #### go to next page:\n",
    "        driver.find_element('xpath', f\"//button[@aria-label='Page {page}']\").click() #//*[@id=\"ember1634\"]/button\n",
    "        time.sleep(3)\n",
    "except:\n",
    "    pass\n",
    "print('Found ' + str(len(links)) + ' links for job offers')  \n",
    "\n",
    "\n",
    "   - Next try:  \n",
    "    \n",
    "    #### Creating an empty list: \n",
    "links = []\n",
    "#### Navigating 25 jobslots\n",
    "print('Links are being collected now.')\n",
    "try: \n",
    "    for jobslots in range(3, 26, 1):\n",
    "        time.sleep(4)\n",
    "        jobs_block = driver.find_element(By.CLASS_NAME('jobs-search-results-list'))\n",
    "        jobs_list = jobs_block.find_elements(By.CSS_SELECTOR('.jobs-search-results__list-item'))\n",
    "        for job in jobs_list:\n",
    "            all_links = job.find_elements(By.TAG_NAME, 'a')\n",
    "            for a in all_links:\n",
    "                if str(a.get_attribute('href')).startswith('https://www.linkedin.com/jobs/view') and a.get_attribute('href') not in links: \n",
    "                    links.append(a.get_attribute('href'))\n",
    "                else:\n",
    "                    pass\n",
    "            # scroll down for each job element\n",
    "            driver.execute_Script('arguments[0].scrollIntoView();', job)\n",
    "        \n",
    "        print(f'Collecting the links in the page: {page-1}')\n",
    "        #### go to next page:\n",
    "        driver.find_element('xpath', f\"//button[@aria-label='Page {page}']\").click() #//*[@id=\"ember1634\"]/button\n",
    "        time.sleep(3)\n",
    "except:\n",
    "    pass\n",
    "print('Found ' + str(len(links)) + ' links for job offers')"
   ]
  },
  {
   "cell_type": "code",
   "execution_count": 16,
   "id": "acad312f",
   "metadata": {},
   "outputs": [
    {
     "name": "stdout",
     "output_type": "stream",
     "text": [
      "Links are being collected now.\n",
      "Found 0 links for job offers\n"
     ]
    }
   ],
   "source": [
    "# #creating an empty list: \n",
    "# links = []\n",
    "# # Navigate 13 pages\n",
    "# print('Links are being collected now.')\n",
    "# try: \n",
    "#     for page in range(2,3):\n",
    "#         time.sleep(2)\n",
    "#         jobs_block = driver.find_element(\"xpath\",'//*[@id=\"main-content\"]')\n",
    "#         jobs_list= jobs_block.find_elements(By.CSS_SELECTOR, '#main-content > section.two-pane-serp-page__results-list > ul > li:nth-child(1) > div > a')\n",
    "    \n",
    "#         for job in jobs_list:\n",
    "#             all_links = job.find_elements(By.CSS_SELECTOR, \"a\")\n",
    "#             for a in all_links:\n",
    "#                 if str(a.get_attribute('href')).startswith(\"https://www.linkedin.com/jobs/view\") and a.get_attribute('href') not in links: \n",
    "#                     links.append(a.get_attribute('href'))\n",
    "#                 else:\n",
    "#                     pass\n",
    "#             # scroll down for each job element\n",
    "#             driver.execute_script(\"arguments[0].scrollIntoView();\", job)\n",
    "        \n",
    "#         print(f'Collecting the links in the page: {page-1}')\n",
    "#         # go to next page:\n",
    "#         driver.find_element(\"xpath\",f\"//button[@aria-label='Page {page}']\").click()\n",
    "#         time.sleep(3)\n",
    "# except:\n",
    "#     pass\n",
    "# print('Found ' + str(len(links)) + ' links for job offers')"
   ]
  }
 ],
 "metadata": {
  "kernelspec": {
   "display_name": "Python 3 (ipykernel)",
   "language": "python",
   "name": "python3"
  },
  "language_info": {
   "codemirror_mode": {
    "name": "ipython",
    "version": 3
   },
   "file_extension": ".py",
   "mimetype": "text/x-python",
   "name": "python",
   "nbconvert_exporter": "python",
   "pygments_lexer": "ipython3",
   "version": "3.9.7"
  }
 },
 "nbformat": 4,
 "nbformat_minor": 5
}
