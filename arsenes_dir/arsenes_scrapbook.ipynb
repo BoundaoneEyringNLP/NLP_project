{
 "cells": [
  {
   "cell_type": "code",
   "execution_count": 1,
   "id": "67197d9a",
   "metadata": {},
   "outputs": [],
   "source": [
    "# Ignoring warning messages from python\n",
    "import warnings\n",
    "warnings.filterwarnings('ignore')\n",
    "\n",
    "# General use imports\n",
    "import pandas as pd\n",
    "import numpy as np\n",
    "import time\n",
    "import selenium\n",
    "\n",
    "# Visualization imports\n",
    "import matplotlib.pyplot as plt\n",
    "import seaborn as sns\n",
    "import plotly.graph_objects as go\n",
    "import plotly\n",
    "import plotly.express as px\n",
    "from plotly.subplots import make_subplots\n",
    "\n",
    "# Selenium imports\n",
    "from selenium import webdriver\n",
    "from selenium.webdriver.common.by import By\n",
    "from selenium.webdriver.support.ui import WebDriverWait\n",
    "from selenium.webdriver.support import expected_conditions as EC\n",
    "from selenium.webdriver.common.keys import Keys"
   ]
  },
  {
   "cell_type": "code",
   "execution_count": 2,
   "id": "3059c945",
   "metadata": {},
   "outputs": [],
   "source": [
    "# Driver's path for Selenium use\n",
    "\n",
    "path = '/Users/arsen/codeup_data_science/chromedriver'\n",
    "driver = webdriver.Chrome(path)"
   ]
  },
  {
   "cell_type": "code",
   "execution_count": 3,
   "id": "a3a4b3f2",
   "metadata": {},
   "outputs": [],
   "source": [
    "# Maximize Window and manipulate the window as human not as a computer\n",
    "driver.maximize_window() \n",
    "driver.minimize_window() \n",
    "driver.maximize_window() \n",
    "driver.switch_to.window(driver.current_window_handle)\n",
    "driver.implicitly_wait(5)"
   ]
  },
  {
   "cell_type": "code",
   "execution_count": 4,
   "id": "9be2bdbc",
   "metadata": {},
   "outputs": [],
   "source": [
    "# Enter to the LinkedIn site\n",
    "driver.get('https://www.linkedin.com/login');\n",
    "time.sleep(2)"
   ]
  },
  {
   "cell_type": "code",
   "execution_count": 5,
   "id": "2942c472",
   "metadata": {},
   "outputs": [],
   "source": [
    "# # If there were cookies we would accept them this way\n",
    "# # Path is hypothetical\n",
    "# driver.find_element_by_xpath('/html/body/div/main/div[1]/div/section/div/div[2]/button[2]').click()"
   ]
  },
  {
   "cell_type": "code",
   "execution_count": 6,
   "id": "a28b3018",
   "metadata": {
    "scrolled": true
   },
   "outputs": [],
   "source": [
    "# Connecting to our credentials\n",
    "# Reading txt file where we have our user credentials\n",
    "with open('credentials.txt', 'r',encoding=\"utf-8\") as file:\n",
    "    credentials = file.readlines(-1)\n",
    "    credentials = [line.rstrip() for line in credentials]\n",
    "    user_name = credentials[0] # First line\n",
    "    password = credentials[1] # Second line\n",
    "\n",
    "    driver.find_element('xpath', '//*[@id=\"username\"]').send_keys(user_name)\n",
    "    driver.find_element('xpath', '//*[@id=\"password\"]').send_keys(password)\n",
    "    time.sleep(1)"
   ]
  },
  {
   "cell_type": "code",
   "execution_count": 7,
   "id": "39b3132f",
   "metadata": {},
   "outputs": [],
   "source": [
    "# # Connecting to our credentials\n",
    "# # Reading txt file where we have our user credentials\n",
    "# # Printing the user_name and password shows what credentials is grabbing\n",
    "# with open('credentials.txt', 'r',encoding=\"utf-8\") as file:\n",
    "#     credentials = file.readlines(-1)\n",
    "#     credentials = [line.rstrip() for line in credentials]\n",
    "# user_name = credentials[0]\n",
    "# password = credentials[1]\n",
    "# print()\n",
    "# print()"
   ]
  },
  {
   "cell_type": "code",
   "execution_count": 8,
   "id": "0a44a295",
   "metadata": {},
   "outputs": [],
   "source": [
    "# Using the login button and waiting 30 seconds for page to fully load\n",
    "driver.find_element('xpath', '//*[@id=\"organic-div\"]/form/div[3]/button').click()\n",
    "driver.implicitly_wait(30)"
   ]
  },
  {
   "cell_type": "code",
   "execution_count": 9,
   "id": "4423440c",
   "metadata": {},
   "outputs": [],
   "source": [
    "# # Using the confirm button for account information\n",
    "# driver.find_element('xpath', '//*[@id=\"ember24\"]/button[1]').click()\n",
    "# driver.implicitly_wait(30)"
   ]
  },
  {
   "cell_type": "code",
   "execution_count": 10,
   "id": "e5b232bf",
   "metadata": {},
   "outputs": [],
   "source": [
    "# # Accessing to the Jobs button and clicking on it\n",
    "# # Seems like we don't need this\n",
    "# driver.find_element('xpath', '//*[@id=\"global-nav\"]/div/nav/ul/li[3]/a').click()\n",
    "# time.sleep(3)"
   ]
  },
  {
   "cell_type": "code",
   "execution_count": 11,
   "id": "0e1e0949",
   "metadata": {},
   "outputs": [],
   "source": [
    "# Accessing the search results directly via link\n",
    "url = 'https://www.linkedin.com/jobs/search/?currentJobId=3290775420&geoId=102396835&keywords=data%\\\n",
    "20scientist&location=San%20Antonio%2C%20Texas%2C%20United%20States&refresh=true'\n",
    "driver.get(url)\n",
    "time.sleep(1)"
   ]
  },
  {
   "cell_type": "code",
   "execution_count": 12,
   "id": "d2f97e98",
   "metadata": {},
   "outputs": [],
   "source": [
    "# # Time for the for-loop\n",
    "# jobs_block = driver.find_element('xpath','jobs-search-results-list')\n",
    "# jobs_list = jobs_block.find_elements(By.CSS_SELECTOR, '.jobs-search-results__list-item')\n",
    "    \n",
    "# for job in jobs_list:\n",
    "#     all_links = job.find_elements_by_tag_name('a')\n",
    "#     for a in all_links:\n",
    "#         if str(a.get_attribute('href')).startswith(\"https://www.linkedin.com/jobs/view\") and a.get_attribute('href') not in links: \n",
    "#             links.append(a.get_attribute('href'))\n",
    "#         else:\n",
    "#             pass"
   ]
  },
  {
   "cell_type": "code",
   "execution_count": 13,
   "id": "046eb3ff",
   "metadata": {},
   "outputs": [],
   "source": [
    "# for job in jobs_list:\n",
    "#     all_links = job.find_elements_by_tag_name('a')\n",
    "#     for a in all_links:\n",
    "#         if str(a.get_attribute('href')).startswith(\"https://www.linkedin.com/jobs/view\") and a.get_attribute('href') not in links: \n",
    "#             links.append(a.get_attribute('href'))\n",
    "#         else:\n",
    "#             pass"
   ]
  },
  {
   "cell_type": "code",
   "execution_count": 14,
   "id": "b9eba692",
   "metadata": {},
   "outputs": [],
   "source": [
    "# for job in jobs_list:\n",
    "#     all_links = job.find_elements_by_tag_name('a')\n",
    "#     for a in all_links:\n",
    "#         if str(a.get_attribute('href')).startswith(\"https://www.linkedin.com/jobs/view\") and a.get_attribute('href') not in links: \n",
    "#             links.append(a.get_attribute('href'))\n",
    "#         else:\n",
    "#             pass"
   ]
  },
  {
   "cell_type": "code",
   "execution_count": 15,
   "id": "81fb9fc8",
   "metadata": {},
   "outputs": [
    {
     "name": "stdout",
     "output_type": "stream",
     "text": [
      "Links are being collected now.\n",
      "Found 0 links for job offers\n"
     ]
    }
   ],
   "source": [
    "# Creating an empty list: \n",
    "links = []\n",
    "# Navigating 25 jobslots\n",
    "print('Links are being collected now.')\n",
    "try: \n",
    "    for page in range(2, 14, 1):\n",
    "        time.sleep(4)\n",
    "        jobs_block = driver.find_element(By.CLASS_NAME, 'scaffold-layout__list-container')\n",
    "        jobs_lists = jobs_block.find_elements(By.CSS_SELECTOR, 'li.ember-view.jobs-search-results__list-item')\n",
    "#         job-card-container.relative.job-card-list.job-card-container--clickable\n",
    "        for job in jobs_lists:\n",
    "            all_links = jobs_list.find_elements(By.TAG_NAME, 'a')\n",
    "            for a in all_links:\n",
    "                if str(a.get_attribute('href')).startswith('/jobs/view') and a.get_attribute('href') not in links: \n",
    "#                     https://www.linkedin.com\n",
    "                    links.append(a.get_attribute('href'))\n",
    "                else:\n",
    "                    pass\n",
    "            # scroll down for each job element\n",
    "            driver.execute_Script('arguments[0].scrollIntoView();', job)\n",
    "\n",
    "        print(f'Collecting the links in the page: {page-1}')\n",
    "        # go to next page:\n",
    "        driver.find_element('xpath', f\"//button[@aria-label='Page {page}']\").click()\n",
    "        time.sleep(3)\n",
    "except:\n",
    "    pass\n",
    "print('Found ' + str(len(links)) + ' links for job offers')"
   ]
  },
  {
   "cell_type": "code",
   "execution_count": 16,
   "id": "016acd28",
   "metadata": {},
   "outputs": [
    {
     "name": "stdout",
     "output_type": "stream",
     "text": [
      "Links are being collected now.\n",
      "Found 0 links for job offers\n"
     ]
    }
   ],
   "source": [
    "#creating an empty list: \n",
    "links = []\n",
    "# Navigate 13 pages\n",
    "print('Links are being collected now.')\n",
    "try: \n",
    "    for page in range(2,3):\n",
    "        time.sleep(2)\n",
    "        jobs_block = driver.find_element(\"xpath\",'//*[@id=\"main-content\"]')\n",
    "        jobs_list= jobs_block.find_elements(By.CSS_SELECTOR, '#main-content > section.two-pane-serp-page__results-list > ul > li:nth-child(1) > div > a')\n",
    "    \n",
    "        for job in jobs_list:\n",
    "            all_links = job.find_elements(By.CSS_SELECTOR, \"a\")\n",
    "            for a in all_links:\n",
    "                if str(a.get_attribute('href')).startswith(\"https://www.linkedin.com/jobs/view\") and a.get_attribute('href') not in links: \n",
    "                    links.append(a.get_attribute('href'))\n",
    "                else:\n",
    "                    pass\n",
    "            # scroll down for each job element\n",
    "            driver.execute_script(\"arguments[0].scrollIntoView();\", job)\n",
    "        \n",
    "        print(f'Collecting the links in the page: {page-1}')\n",
    "        # go to next page:\n",
    "        driver.find_element(\"xpath\",f\"//button[@aria-label='Page {page}']\").click()\n",
    "        time.sleep(3)\n",
    "except:\n",
    "    pass\n",
    "print('Found ' + str(len(links)) + ' links for job offers')"
   ]
  },
  {
   "cell_type": "code",
   "execution_count": 17,
   "id": "f6d4d2ee",
   "metadata": {},
   "outputs": [],
   "source": [
    "# for jobslots in range(3, 26, 1):\n",
    "#     time.sleep(4)\n",
    "#     jobs_group = driver.find_element(By.CLASS_NAME, 'jobs-search-results-list')\n",
    "#     jobs_list = jobs_group.find_elements(By.CSS_SELECTOR('.jobs-search-results__list-item'))\n",
    "# print(jobs_group)\n",
    "# print(jobs_list)"
   ]
  },
  {
   "cell_type": "code",
   "execution_count": 18,
   "id": "af61af00",
   "metadata": {},
   "outputs": [
    {
     "name": "stdout",
     "output_type": "stream",
     "text": [
      "[<selenium.webdriver.remote.webelement.WebElement (session=\"35e5aea3da89bbab57bed0e299369a0b\", element=\"42c29837-d508-495d-b00b-8fafaeb7e425\")>, <selenium.webdriver.remote.webelement.WebElement (session=\"35e5aea3da89bbab57bed0e299369a0b\", element=\"39271488-e76f-4e0e-819a-b3d86d45645c\")>, <selenium.webdriver.remote.webelement.WebElement (session=\"35e5aea3da89bbab57bed0e299369a0b\", element=\"eb5be8c4-844d-4113-9e3a-63fe8db0e680\")>, <selenium.webdriver.remote.webelement.WebElement (session=\"35e5aea3da89bbab57bed0e299369a0b\", element=\"53fad90b-6232-40f3-b6ea-8b49c480d298\")>, <selenium.webdriver.remote.webelement.WebElement (session=\"35e5aea3da89bbab57bed0e299369a0b\", element=\"ff692d9d-f72f-412a-9879-e02fb9be3476\")>, <selenium.webdriver.remote.webelement.WebElement (session=\"35e5aea3da89bbab57bed0e299369a0b\", element=\"287b8fcf-8e9d-450c-9435-65646db77ea0\")>, <selenium.webdriver.remote.webelement.WebElement (session=\"35e5aea3da89bbab57bed0e299369a0b\", element=\"14eb9105-6b22-4a9c-872a-e03555516d0a\")>, <selenium.webdriver.remote.webelement.WebElement (session=\"35e5aea3da89bbab57bed0e299369a0b\", element=\"d16fd283-2ff4-4594-992f-e5031dc444d7\")>, <selenium.webdriver.remote.webelement.WebElement (session=\"35e5aea3da89bbab57bed0e299369a0b\", element=\"affe227e-1241-4e39-8c2f-f3162e43c627\")>, <selenium.webdriver.remote.webelement.WebElement (session=\"35e5aea3da89bbab57bed0e299369a0b\", element=\"d57230b2-1532-429a-90aa-880ce729206d\")>, <selenium.webdriver.remote.webelement.WebElement (session=\"35e5aea3da89bbab57bed0e299369a0b\", element=\"b8e387f0-7d3f-4732-82bf-dffa3a3dadcd\")>, <selenium.webdriver.remote.webelement.WebElement (session=\"35e5aea3da89bbab57bed0e299369a0b\", element=\"721181bf-b765-404b-9423-8219112de357\")>, <selenium.webdriver.remote.webelement.WebElement (session=\"35e5aea3da89bbab57bed0e299369a0b\", element=\"01259855-bd35-4e10-9cb3-83c7541dd1cc\")>, <selenium.webdriver.remote.webelement.WebElement (session=\"35e5aea3da89bbab57bed0e299369a0b\", element=\"ae335473-c167-4534-aa1b-84296f12ee1d\")>, <selenium.webdriver.remote.webelement.WebElement (session=\"35e5aea3da89bbab57bed0e299369a0b\", element=\"8e5f351b-edfd-446c-8b7a-49b30cf7be62\")>, <selenium.webdriver.remote.webelement.WebElement (session=\"35e5aea3da89bbab57bed0e299369a0b\", element=\"09a4f69e-0333-46bc-805d-b68dda754cdb\")>, <selenium.webdriver.remote.webelement.WebElement (session=\"35e5aea3da89bbab57bed0e299369a0b\", element=\"24c77a33-6976-44fc-a69a-1aabedba93e4\")>, <selenium.webdriver.remote.webelement.WebElement (session=\"35e5aea3da89bbab57bed0e299369a0b\", element=\"6b7b0e57-08a1-47d7-bf35-e376b44460a0\")>, <selenium.webdriver.remote.webelement.WebElement (session=\"35e5aea3da89bbab57bed0e299369a0b\", element=\"c3cd9068-e51c-4f0d-bf36-b3f5241fe1db\")>, <selenium.webdriver.remote.webelement.WebElement (session=\"35e5aea3da89bbab57bed0e299369a0b\", element=\"49d272cb-02fd-42e2-a14d-096cf541929e\")>, <selenium.webdriver.remote.webelement.WebElement (session=\"35e5aea3da89bbab57bed0e299369a0b\", element=\"f74a85ee-30d0-46df-bec8-50b1d66616d3\")>, <selenium.webdriver.remote.webelement.WebElement (session=\"35e5aea3da89bbab57bed0e299369a0b\", element=\"5da6b837-519a-4eba-a12c-8a62e76a4942\")>, <selenium.webdriver.remote.webelement.WebElement (session=\"35e5aea3da89bbab57bed0e299369a0b\", element=\"7a4351f3-031c-4940-96e4-10ec9a5dfcf8\")>, <selenium.webdriver.remote.webelement.WebElement (session=\"35e5aea3da89bbab57bed0e299369a0b\", element=\"7a0f53d7-4180-4217-9407-b5537eb409be\")>, <selenium.webdriver.remote.webelement.WebElement (session=\"35e5aea3da89bbab57bed0e299369a0b\", element=\"23fca47f-304c-4a5f-a07b-4cb72812fc78\")>]\n"
     ]
    }
   ],
   "source": [
    "print(jobs_list)"
   ]
  },
  {
   "cell_type": "code",
   "execution_count": 19,
   "id": "f1f84c24",
   "metadata": {},
   "outputs": [
    {
     "ename": "NameError",
     "evalue": "name 'all_links' is not defined",
     "output_type": "error",
     "traceback": [
      "\u001b[0;31m---------------------------------------------------------------------------\u001b[0m",
      "\u001b[0;31mNameError\u001b[0m                                 Traceback (most recent call last)",
      "\u001b[0;32m/var/folders/5k/zptdym41293159jft7y2b6cm0000gp/T/ipykernel_13420/1544259119.py\u001b[0m in \u001b[0;36m<module>\u001b[0;34m\u001b[0m\n\u001b[0;32m----> 1\u001b[0;31m \u001b[0mprint\u001b[0m\u001b[0;34m(\u001b[0m\u001b[0mall_links\u001b[0m\u001b[0;34m)\u001b[0m\u001b[0;34m\u001b[0m\u001b[0;34m\u001b[0m\u001b[0m\n\u001b[0m",
      "\u001b[0;31mNameError\u001b[0m: name 'all_links' is not defined"
     ]
    }
   ],
   "source": [
    "print(all_links)"
   ]
  },
  {
   "cell_type": "markdown",
   "id": "02f4a9da",
   "metadata": {},
   "source": [
    "- Tried:  \n",
    "    - cssSelector associated with id\n",
    "    - xpath associated with the xpath ('//*[@id=\"main\"]/div/section[1]/div/ul') for jobs_block\n",
    "    - cssSelector associated with id variable (#ember190)\n",
    "    - className associated with the class name ('jobs-search-results-list')\n",
    "    - By.ID with 'data-job-id'\n",
    "    - Today 10/2 tried this:\n",
    "    #creating an empty list: \n",
    "links = []\n",
    "#### Navigate 13 pages\n",
    "print('Links are being collected now.')\n",
    "try: \n",
    "    for page in range(0, 14, 1):\n",
    "        time.sleep(4)\n",
    "        jobs_block = driver.find_element(By.CLASS_NAME('scaffold-layout__list-container'))\n",
    "        jobs_list = jobs_block.find_elements(By.ID('ember-view   jobs-search-results__list-item occludable-update p0 relative scaffold-layout__list-item'))\n",
    "        for job in jobs_list:\n",
    "            all_links = job.find_elements(By.TAG_NAME, 'a')\n",
    "            for a in all_links:\n",
    "                if str(a.get_attribute('href')).startswith('/jobs/view') and a.get_attribute('href') not in links: \n",
    "                    links.append(a.get_attribute('href'))\n",
    "                else:\n",
    "                    pass\n",
    "            # scroll down for each job element\n",
    "            driver.execute_Script('arguments[0].scrollIntoView();', job)\n",
    "        \n",
    "        print(f'Collecting the links in the page: {page-1}')\n",
    "        ##### go to next page:\n",
    "        driver.find_element('xpath', f\"//button[@aria-label='Page {page}']\").click() #//*[@id=\"ember1634\"]/button\n",
    "        time.sleep(3)\n",
    "except:\n",
    "    pass\n",
    "print('Found ' + str(len(links)) + ' links for job offers')  \n",
    "\n",
    "\n",
    "   - I am gonna modify elements by elements from here to see what happens. Next try:  \n",
    "   \n",
    "   #creating an empty list: \n",
    "links = []\n",
    "#### Navigate 13 pages\n",
    "print('Links are being collected now.')\n",
    "try: \n",
    "    for page in range(3, 14, 1):\n",
    "        time.sleep(4)\n",
    "        jobs_block = driver.find_element(By.CLASS_NAME('jobs-search-results-list'))\n",
    "        jobs_list = jobs_block.find_elements(By.ID('.jobs-search-results__list-item'))\n",
    "        for job in jobs_list:\n",
    "            all_links = job.find_elements(By.TAG_NAME, 'a')\n",
    "            for a in all_links:\n",
    "                if str(a.get_attribute('href')).startswith('https://www.linkedin.com/jobs/view') and a.get_attribute('href') not in links: \n",
    "                    links.append(a.get_attribute('href'))\n",
    "                else:\n",
    "                    pass\n",
    "            # scroll down for each job element\n",
    "            driver.execute_Script('arguments[0].scrollIntoView();', job)\n",
    "        \n",
    "        print(f'Collecting the links in the page: {page-1}')\n",
    "        #### go to next page:\n",
    "        driver.find_element('xpath', f\"//button[@aria-label='Page {page}']\").click() #//*[@id=\"ember1634\"]/button\n",
    "        time.sleep(3)\n",
    "except:\n",
    "    pass\n",
    "print('Found ' + str(len(links)) + ' links for job offers')  \n",
    "\n",
    "\n",
    "   - Next try:  \n",
    "    \n",
    "    #### Creating an empty list: \n",
    "links = []\n",
    "#### Navigating 25 jobslots\n",
    "print('Links are being collected now.')\n",
    "try: \n",
    "    for jobslots in range(3, 26, 1):\n",
    "        time.sleep(4)\n",
    "        jobs_block = driver.find_element(By.CLASS_NAME('jobs-search-results-list'))\n",
    "        jobs_list = jobs_block.find_elements(By.CSS_SELECTOR('.jobs-search-results__list-item'))\n",
    "        for job in jobs_list:\n",
    "            all_links = job.find_elements(By.TAG_NAME, 'a')\n",
    "            for a in all_links:\n",
    "                if str(a.get_attribute('href')).startswith('https://www.linkedin.com/jobs/view') and a.get_attribute('href') not in links: \n",
    "                    links.append(a.get_attribute('href'))\n",
    "                else:\n",
    "                    pass\n",
    "            # scroll down for each job element\n",
    "            driver.execute_Script('arguments[0].scrollIntoView();', job)\n",
    "        \n",
    "        print(f'Collecting the links in the page: {page-1}')\n",
    "        #### go to next page:\n",
    "        driver.find_element('xpath', f\"//button[@aria-label='Page {page}']\").click() #//*[@id=\"ember1634\"]/button\n",
    "        time.sleep(3)\n",
    "except:\n",
    "    pass\n",
    "print('Found ' + str(len(links)) + ' links for job offers')"
   ]
  }
 ],
 "metadata": {
  "kernelspec": {
   "display_name": "Python 3 (ipykernel)",
   "language": "python",
   "name": "python3"
  },
  "language_info": {
   "codemirror_mode": {
    "name": "ipython",
    "version": 3
   },
   "file_extension": ".py",
   "mimetype": "text/x-python",
   "name": "python",
   "nbconvert_exporter": "python",
   "pygments_lexer": "ipython3",
   "version": "3.9.7"
  }
 },
 "nbformat": 4,
 "nbformat_minor": 5
}
