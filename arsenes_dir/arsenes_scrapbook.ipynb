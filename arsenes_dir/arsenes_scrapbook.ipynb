{
 "cells": [
  {
   "cell_type": "code",
   "execution_count": 1,
   "id": "67197d9a",
   "metadata": {},
   "outputs": [],
   "source": [
    "# Ignoring warning messages from python\n",
    "import warnings\n",
    "warnings.filterwarnings('ignore')\n",
    "\n",
    "# General use imports\n",
    "import pandas as pd\n",
    "import numpy as np\n",
    "import time\n",
    "import selenium\n",
    "\n",
    "# Visualization imports\n",
    "import matplotlib.pyplot as plt\n",
    "import seaborn as sns\n",
    "import plotly.graph_objects as go\n",
    "import plotly\n",
    "import plotly.express as px\n",
    "from plotly.subplots import make_subplots\n",
    "\n",
    "# Selenium imports\n",
    "from selenium import webdriver\n",
    "from selenium.webdriver.common.by import By\n",
    "from selenium.webdriver.support.ui import WebDriverWait\n",
    "from selenium.webdriver.support import expected_conditions as EC\n",
    "from selenium.webdriver.common.keys import Keys"
   ]
  },
  {
   "cell_type": "code",
   "execution_count": 2,
   "id": "3059c945",
   "metadata": {},
   "outputs": [],
   "source": [
    "# Driver's path for Selenium use\n",
    "\n",
    "path = '/Users/arsen/codeup_data_science/chromedriver'\n",
    "driver = webdriver.Chrome(path)"
   ]
  },
  {
   "cell_type": "code",
   "execution_count": 3,
   "id": "a3a4b3f2",
   "metadata": {},
   "outputs": [],
   "source": [
    "# Maximize Window and manipulate the window as human not as a computer\n",
    "driver.maximize_window() \n",
    "driver.minimize_window() \n",
    "driver.maximize_window() \n",
    "driver.switch_to.window(driver.current_window_handle)\n",
    "driver.implicitly_wait(5)"
   ]
  },
  {
   "cell_type": "code",
   "execution_count": 4,
   "id": "9be2bdbc",
   "metadata": {},
   "outputs": [],
   "source": [
    "# Enter to the LinkedIn site\n",
    "driver.get('https://www.linkedin.com/login');\n",
    "time.sleep(2)"
   ]
  },
  {
   "cell_type": "code",
   "execution_count": null,
   "id": "2942c472",
   "metadata": {},
   "outputs": [],
   "source": [
    "# # If there were cookies we would accept them this way\n",
    "# # Path is hypothetical\n",
    "# driver.find_element_by_xpath('/html/body/div/main/div[1]/div/section/div/div[2]/button[2]').click()"
   ]
  },
  {
   "cell_type": "code",
   "execution_count": 5,
   "id": "a28b3018",
   "metadata": {
    "scrolled": true
   },
   "outputs": [],
   "source": [
    "# Connecting to our credentials\n",
    "# Reading txt file where we have our user credentials\n",
    "with open('credentials.txt', 'r',encoding=\"utf-8\") as file:\n",
    "    credentials = file.readlines(-1)\n",
    "    credentials = [line.rstrip() for line in credentials]\n",
    "    user_name = credentials[0] # First line\n",
    "    password = credentials[1] # Second line\n",
    "\n",
    "    driver.find_element('xpath', '//*[@id=\"username\"]').send_keys(user_name)\n",
    "    driver.find_element('xpath', '//*[@id=\"password\"]').send_keys(password)\n",
    "    time.sleep(1)"
   ]
  },
  {
   "cell_type": "code",
   "execution_count": 14,
   "id": "39b3132f",
   "metadata": {},
   "outputs": [
    {
     "name": "stdout",
     "output_type": "stream",
     "text": [
      "\n",
      "\n"
     ]
    }
   ],
   "source": [
    "# Connecting to our credentials\n",
    "# Reading txt file where we have our user credentials\n",
    "# Printing the user_name and password shows what credentials is grabbing\n",
    "with open('credentials.txt', 'r',encoding=\"utf-8\") as file:\n",
    "    credentials = file.readlines(-1)\n",
    "    credentials = [line.rstrip() for line in credentials]\n",
    "user_name = credentials[0]\n",
    "password = credentials[1]\n",
    "print()\n",
    "print()"
   ]
  },
  {
   "cell_type": "code",
   "execution_count": 6,
   "id": "0a44a295",
   "metadata": {},
   "outputs": [],
   "source": [
    "# Using the login button and waiting 30 seconds for page to fully load\n",
    "driver.find_element('xpath', '//*[@id=\"organic-div\"]/form/div[3]/button').click()\n",
    "driver.implicitly_wait(30)"
   ]
  },
  {
   "cell_type": "code",
   "execution_count": 7,
   "id": "4423440c",
   "metadata": {},
   "outputs": [],
   "source": [
    "# Using the confirm button for account information\n",
    "driver.find_element('xpath', '//*[@id=\"ember24\"]/button[1]').click()\n",
    "driver.implicitly_wait(30)"
   ]
  },
  {
   "cell_type": "code",
   "execution_count": 9,
   "id": "e5b232bf",
   "metadata": {},
   "outputs": [],
   "source": [
    "# Accessing to the Jobs button and clicking on it\n",
    "driver.find_element('xpath', '//*[@id=\"global-nav\"]/div/nav/ul/li[3]/a').click()\n",
    "time.sleep(3)"
   ]
  },
  {
   "cell_type": "code",
   "execution_count": 10,
   "id": "0e1e0949",
   "metadata": {},
   "outputs": [],
   "source": [
    "# Accessing the search results directly via link\n",
    "url = 'https://www.linkedin.com/jobs/search/?currentJobId=3254078222&geoId=102396835&\\\n",
    "keywords=data%20analyst&location=San%20Antonio%2C%20Texas%2C%20United%20States&refresh=true'\n",
    "driver.get(url)\n",
    "time.sleep(1)"
   ]
  },
  {
   "cell_type": "code",
   "execution_count": null,
   "id": "d2f97e98",
   "metadata": {},
   "outputs": [],
   "source": [
    "jobs_bloc = driver.find_element_by_class_name('jobs-search-results-list')\n",
    "    jobs_list = jobs_block.find_elements(By.CSS_SELECTOR, '.jobs-search-results__list-item')"
   ]
  }
 ],
 "metadata": {
  "kernelspec": {
   "display_name": "Python 3 (ipykernel)",
   "language": "python",
   "name": "python3"
  },
  "language_info": {
   "codemirror_mode": {
    "name": "ipython",
    "version": 3
   },
   "file_extension": ".py",
   "mimetype": "text/x-python",
   "name": "python",
   "nbconvert_exporter": "python",
   "pygments_lexer": "ipython3",
   "version": "3.9.7"
  }
 },
 "nbformat": 4,
 "nbformat_minor": 5
}
