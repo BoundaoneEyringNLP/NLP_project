{
 "cells": [
  {
   "cell_type": "code",
   "execution_count": 1,
   "id": "67197d9a",
   "metadata": {},
   "outputs": [],
   "source": [
    "# Ignoring warning messages from python\n",
    "import warnings\n",
    "warnings.filterwarnings('ignore')\n",
    "\n",
    "# General use imports\n",
    "import pandas as pd\n",
    "import numpy as np\n",
    "import time\n",
    "import selenium\n",
    "\n",
    "# Visualization imports\n",
    "import matplotlib.pyplot as plt\n",
    "import seaborn as sns\n",
    "import plotly.graph_objects as go\n",
    "import plotly\n",
    "import plotly.express as px\n",
    "from plotly.subplots import make_subplots\n",
    "\n",
    "# Selenium imports\n",
    "from selenium import webdriver\n",
    "from selenium.webdriver.common.by import By\n",
    "from selenium.webdriver.support.ui import WebDriverWait\n",
    "from selenium.webdriver.support import expected_conditions as EC\n",
    "from selenium.webdriver.common.keys import Keys"
   ]
  },
  {
   "cell_type": "code",
   "execution_count": 2,
   "id": "3059c945",
   "metadata": {},
   "outputs": [],
   "source": [
    "# Driver's path for Selenium use\n",
    "\n",
    "path = '/Users/arsen/codeup_data_science/chromedriver'\n",
    "driver = webdriver.Chrome(path)"
   ]
  },
  {
   "cell_type": "code",
   "execution_count": 3,
   "id": "a3a4b3f2",
   "metadata": {},
   "outputs": [],
   "source": [
    "# Maximize Window and manipulate the window as human not as a computer\n",
    "driver.maximize_window() \n",
    "driver.minimize_window() \n",
    "driver.maximize_window() \n",
    "driver.switch_to.window(driver.current_window_handle)\n",
    "driver.implicitly_wait(5)"
   ]
  },
  {
   "cell_type": "code",
   "execution_count": 4,
   "id": "9be2bdbc",
   "metadata": {},
   "outputs": [],
   "source": [
    "# Enter to the LinkedIn site\n",
    "driver.get('https://www.linkedin.com/login');\n",
    "time.sleep(2)"
   ]
  },
  {
   "cell_type": "code",
   "execution_count": 5,
   "id": "2942c472",
   "metadata": {},
   "outputs": [],
   "source": [
    "# # If there were cookies we would accept them this way\n",
    "# # Path is hypothetical\n",
    "# driver.find_element_by_xpath('/html/body/div/main/div[1]/div/section/div/div[2]/button[2]').click()"
   ]
  },
  {
   "cell_type": "code",
   "execution_count": 6,
   "id": "a28b3018",
   "metadata": {
    "scrolled": true
   },
   "outputs": [],
   "source": [
    "# Connecting to our credentials\n",
    "# Reading txt file where we have our user credentials\n",
    "with open('credentials.txt', 'r',encoding=\"utf-8\") as file:\n",
    "    credentials = file.readlines(-1)\n",
    "    credentials = [line.rstrip() for line in credentials]\n",
    "    user_name = credentials[0] # First line\n",
    "    password = credentials[1] # Second line\n",
    "\n",
    "    driver.find_element('xpath', '//*[@id=\"username\"]').send_keys(user_name)\n",
    "    driver.find_element('xpath', '//*[@id=\"password\"]').send_keys(password)\n",
    "    time.sleep(1)"
   ]
  },
  {
   "cell_type": "code",
   "execution_count": 7,
   "id": "39b3132f",
   "metadata": {},
   "outputs": [],
   "source": [
    "# # Connecting to our credentials\n",
    "# # Reading txt file where we have our user credentials\n",
    "# # Printing the user_name and password shows what credentials is grabbing\n",
    "# with open('credentials.txt', 'r',encoding=\"utf-8\") as file:\n",
    "#     credentials = file.readlines(-1)\n",
    "#     credentials = [line.rstrip() for line in credentials]\n",
    "# user_name = credentials[0]\n",
    "# password = credentials[1]\n",
    "# print()\n",
    "# print()"
   ]
  },
  {
   "cell_type": "code",
   "execution_count": 8,
   "id": "0a44a295",
   "metadata": {},
   "outputs": [],
   "source": [
    "# Using the login button and waiting 30 seconds for page to fully load\n",
    "driver.find_element('xpath', '//*[@id=\"organic-div\"]/form/div[3]/button').click()\n",
    "driver.implicitly_wait(30)"
   ]
  },
  {
   "cell_type": "code",
   "execution_count": 9,
   "id": "4423440c",
   "metadata": {},
   "outputs": [],
   "source": [
    "# # Using the confirm button for account information\n",
    "# driver.find_element('xpath', '//*[@id=\"ember24\"]/button[1]').click()\n",
    "# driver.implicitly_wait(30)"
   ]
  },
  {
   "cell_type": "code",
   "execution_count": 10,
   "id": "e5b232bf",
   "metadata": {},
   "outputs": [],
   "source": [
    "# # Accessing to the Jobs button and clicking on it\n",
    "# # Seems like we don't need this\n",
    "# driver.find_element('xpath', '//*[@id=\"global-nav\"]/div/nav/ul/li[3]/a').click()\n",
    "# time.sleep(3)"
   ]
  },
  {
   "cell_type": "code",
   "execution_count": 11,
   "id": "0e1e0949",
   "metadata": {},
   "outputs": [],
   "source": [
    "# Accessing the search results directly via link\n",
    "url = 'https://www.linkedin.com/jobs/search/?currentJobId=3290775420&geoId=102396835&keywords=data%\\\n",
    "20scientist&location=San%20Antonio%2C%20Texas%2C%20United%20States&refresh=true'\n",
    "driver.get(url)\n",
    "time.sleep(1)"
   ]
  },
  {
   "cell_type": "code",
   "execution_count": 12,
   "id": "d2f97e98",
   "metadata": {},
   "outputs": [],
   "source": [
    "# # Time for the for-loop\n",
    "# jobs_block = driver.find_element('xpath','jobs-search-results-list')\n",
    "# jobs_list = jobs_block.find_elements(By.CSS_SELECTOR, '.jobs-search-results__list-item')\n",
    "    \n",
    "# for job in jobs_list:\n",
    "#     all_links = job.find_elements_by_tag_name('a')\n",
    "#     for a in all_links:\n",
    "#         if str(a.get_attribute('href')).startswith(\"https://www.linkedin.com/jobs/view\") and a.get_attribute('href') not in links: \n",
    "#             links.append(a.get_attribute('href'))\n",
    "#         else:\n",
    "#             pass"
   ]
  },
  {
   "cell_type": "code",
   "execution_count": 13,
   "id": "046eb3ff",
   "metadata": {},
   "outputs": [],
   "source": [
    "# for job in jobs_list:\n",
    "#     all_links = job.find_elements_by_tag_name('a')\n",
    "#     for a in all_links:\n",
    "#         if str(a.get_attribute('href')).startswith(\"https://www.linkedin.com/jobs/view\") and a.get_attribute('href') not in links: \n",
    "#             links.append(a.get_attribute('href'))\n",
    "#         else:\n",
    "#             pass"
   ]
  },
  {
   "cell_type": "code",
   "execution_count": 14,
   "id": "b9eba692",
   "metadata": {},
   "outputs": [],
   "source": [
    "# for job in jobs_list:\n",
    "#     all_links = job.find_elements_by_tag_name('a')\n",
    "#     for a in all_links:\n",
    "#         if str(a.get_attribute('href')).startswith(\"https://www.linkedin.com/jobs/view\") and a.get_attribute('href') not in links: \n",
    "#             links.append(a.get_attribute('href'))\n",
    "#         else:\n",
    "#             pass"
   ]
  },
  {
   "cell_type": "code",
   "execution_count": 15,
   "id": "81fb9fc8",
   "metadata": {},
   "outputs": [
    {
     "name": "stdout",
     "output_type": "stream",
     "text": [
      "Links are being collected now.\n",
      "Found 0 links for job offers\n"
     ]
    }
   ],
   "source": [
    "# Creating an empty list: \n",
    "links = []\n",
    "# Navigating 25 jobslots\n",
    "print('Links are being collected now.')\n",
    "try: \n",
    "    for page in range(2, 14, 1):\n",
    "        time.sleep(4)\n",
    "        jobs_block = driver.find_element(By.CLASS_NAME, 'scaffold-layout__list-container')\n",
    "        jobs_lists = jobs_block.find_elements(By.CSS_SELECTOR, 'li.ember-view.jobs-search-results__list-item')\n",
    "#         job-card-container.relative.job-card-list.job-card-container--clickable\n",
    "# Problem seems to be here\n",
    "        for job in jobs_lists:\n",
    "# Or here\n",
    "        #           all_links = jobs_lists.find_elements(By.CSS_SELECTOR, 'a') //*[@id=\"ember199\"]\n",
    "            all_links = jobs_lists.find_elements('xpath', '/html/body/div[5]/div[3]/div[4]/div/div/main/div/section[1]/div/ul/li[2]/div/div[1]/div[1]/div[1]/a')\n",
    "#           /html/body/div[5]/div[3]/div[4]/div/div/main/div/section[1]/div/ul/li[2]/div/div[1]/div[1]/div[1]/a\n",
    "            for a in all_links:\n",
    "                if str(a.get_attribute('href')).startswith('/jobs/view') and a.get_attribute('href') not in links: \n",
    "#                     https://www.linkedin.com\n",
    "                    links.append(a.get_attribute('href'))\n",
    "                else:\n",
    "                    pass\n",
    "            # scroll down for each job element\n",
    "            driver.execute_Script('arguments[0].scrollIntoView();', job)\n",
    "\n",
    "        print(f'Collecting the links in the page: {page-1}')\n",
    "        # go to next page:\n",
    "        driver.find_element('xpath', f\"//button[@aria-label='Page {page}']\").click()\n",
    "        time.sleep(3)\n",
    "except:\n",
    "    pass\n",
    "print('Found ' + str(len(links)) + ' links for job offers')"
   ]
  },
  {
   "cell_type": "code",
   "execution_count": 16,
   "id": "547229d5",
   "metadata": {},
   "outputs": [],
   "source": [
    "# for jobslots in range(3, 26, 1):\n",
    "#     time.sleep(4)\n",
    "#     jobs_group = driver.find_element(By.CLASS_NAME, 'jobs-search-results-list')\n",
    "#     jobs_list = jobs_group.find_elements(By.CSS_SELECTOR('.jobs-search-results__list-item'))\n",
    "# print(jobs_group)\n",
    "# print(jobs_list)"
   ]
  },
  {
   "cell_type": "code",
   "execution_count": 17,
   "id": "6911f215",
   "metadata": {},
   "outputs": [
    {
     "name": "stdout",
     "output_type": "stream",
     "text": [
      "<selenium.webdriver.remote.webelement.WebElement (session=\"9457fd227acc6afe9b1438cfa2dd5549\", element=\"5f13c76d-689d-422f-95b4-a1426903e61d\")>\n"
     ]
    }
   ],
   "source": [
    "print(jobs_block)"
   ]
  },
  {
   "cell_type": "code",
   "execution_count": 18,
   "id": "5d41be0c",
   "metadata": {},
   "outputs": [
    {
     "name": "stdout",
     "output_type": "stream",
     "text": [
      "[<selenium.webdriver.remote.webelement.WebElement (session=\"9457fd227acc6afe9b1438cfa2dd5549\", element=\"5953fc30-e9bf-42ca-b2b8-056b669dbbc1\")>, <selenium.webdriver.remote.webelement.WebElement (session=\"9457fd227acc6afe9b1438cfa2dd5549\", element=\"6a065310-5e64-49cb-b2bc-99dacc700250\")>, <selenium.webdriver.remote.webelement.WebElement (session=\"9457fd227acc6afe9b1438cfa2dd5549\", element=\"f0f43f28-db5d-4ea2-b2d2-02d91306ee43\")>, <selenium.webdriver.remote.webelement.WebElement (session=\"9457fd227acc6afe9b1438cfa2dd5549\", element=\"40202d5b-b90a-44e9-8dd2-5084d9a3f245\")>, <selenium.webdriver.remote.webelement.WebElement (session=\"9457fd227acc6afe9b1438cfa2dd5549\", element=\"abd2d8c1-3bfc-4cf9-82d2-47cf593282e5\")>, <selenium.webdriver.remote.webelement.WebElement (session=\"9457fd227acc6afe9b1438cfa2dd5549\", element=\"8780347d-5582-4558-b9f9-ed2d0cd17c43\")>, <selenium.webdriver.remote.webelement.WebElement (session=\"9457fd227acc6afe9b1438cfa2dd5549\", element=\"d20c4ede-31e6-4beb-8ed6-be566e2992f1\")>, <selenium.webdriver.remote.webelement.WebElement (session=\"9457fd227acc6afe9b1438cfa2dd5549\", element=\"dff5f0a3-a1dd-482a-80f9-ef8607e98839\")>, <selenium.webdriver.remote.webelement.WebElement (session=\"9457fd227acc6afe9b1438cfa2dd5549\", element=\"112deda8-355d-4384-824b-04908a3b68d6\")>, <selenium.webdriver.remote.webelement.WebElement (session=\"9457fd227acc6afe9b1438cfa2dd5549\", element=\"268baacb-6d36-4efb-8581-8821ed5e86ef\")>, <selenium.webdriver.remote.webelement.WebElement (session=\"9457fd227acc6afe9b1438cfa2dd5549\", element=\"21a34f1b-c1e3-48d6-af9e-0c04df585ed5\")>, <selenium.webdriver.remote.webelement.WebElement (session=\"9457fd227acc6afe9b1438cfa2dd5549\", element=\"8865a647-8588-4a6c-bc44-6d6db4c21f9a\")>, <selenium.webdriver.remote.webelement.WebElement (session=\"9457fd227acc6afe9b1438cfa2dd5549\", element=\"2e9abfcb-fb26-4626-b84e-dc1d676b8f70\")>, <selenium.webdriver.remote.webelement.WebElement (session=\"9457fd227acc6afe9b1438cfa2dd5549\", element=\"2e006303-06cf-4ffc-9126-1e475b874406\")>, <selenium.webdriver.remote.webelement.WebElement (session=\"9457fd227acc6afe9b1438cfa2dd5549\", element=\"d8f6acd9-a697-496d-9ef3-33db21c0e2e4\")>, <selenium.webdriver.remote.webelement.WebElement (session=\"9457fd227acc6afe9b1438cfa2dd5549\", element=\"60ca42ab-32f5-45de-90eb-2a067c886e28\")>, <selenium.webdriver.remote.webelement.WebElement (session=\"9457fd227acc6afe9b1438cfa2dd5549\", element=\"6ff77e12-5b54-4a4f-a56c-17700a72fa17\")>, <selenium.webdriver.remote.webelement.WebElement (session=\"9457fd227acc6afe9b1438cfa2dd5549\", element=\"b0bdcd38-c571-4fff-957a-029c911585fa\")>, <selenium.webdriver.remote.webelement.WebElement (session=\"9457fd227acc6afe9b1438cfa2dd5549\", element=\"16ebf07a-217e-49ee-8097-39f8a699359a\")>, <selenium.webdriver.remote.webelement.WebElement (session=\"9457fd227acc6afe9b1438cfa2dd5549\", element=\"c952d9ad-b233-4504-a019-63b185203b8f\")>, <selenium.webdriver.remote.webelement.WebElement (session=\"9457fd227acc6afe9b1438cfa2dd5549\", element=\"c3e4ba3d-f25a-4a97-9aa9-7faa1ebb14d3\")>, <selenium.webdriver.remote.webelement.WebElement (session=\"9457fd227acc6afe9b1438cfa2dd5549\", element=\"25036279-a846-462c-b52a-e760a636eae1\")>, <selenium.webdriver.remote.webelement.WebElement (session=\"9457fd227acc6afe9b1438cfa2dd5549\", element=\"e423fb61-67e5-4af1-9366-18ef70eff025\")>, <selenium.webdriver.remote.webelement.WebElement (session=\"9457fd227acc6afe9b1438cfa2dd5549\", element=\"f0619a85-ba35-4544-8496-fe9a8cb00e96\")>, <selenium.webdriver.remote.webelement.WebElement (session=\"9457fd227acc6afe9b1438cfa2dd5549\", element=\"02473673-304c-4855-ad25-a5ffee492396\")>]\n"
     ]
    }
   ],
   "source": [
    "print(jobs_lists)"
   ]
  },
  {
   "cell_type": "code",
   "execution_count": 20,
   "id": "6c3aa110",
   "metadata": {},
   "outputs": [
    {
     "data": {
      "text/plain": [
       "list"
      ]
     },
     "execution_count": 20,
     "metadata": {},
     "output_type": "execute_result"
    }
   ],
   "source": [
    "type(jobs_lists)"
   ]
  },
  {
   "cell_type": "code",
   "execution_count": 27,
   "id": "bcc8ca72",
   "metadata": {
    "scrolled": false
   },
   "outputs": [
    {
     "name": "stdout",
     "output_type": "stream",
     "text": [
      "[]\n"
     ]
    }
   ],
   "source": [
    "elements = [element for element in jobs_lists if 'session' in jobs_lists]\n",
    "print(elements)"
   ]
  },
  {
   "cell_type": "code",
   "execution_count": 19,
   "id": "2062ae72",
   "metadata": {
    "collapsed": true
   },
   "outputs": [
    {
     "ename": "NameError",
     "evalue": "name 'all_links' is not defined",
     "output_type": "error",
     "traceback": [
      "\u001b[0;31m---------------------------------------------------------------------------\u001b[0m",
      "\u001b[0;31mNameError\u001b[0m                                 Traceback (most recent call last)",
      "\u001b[0;32m/var/folders/5k/zptdym41293159jft7y2b6cm0000gp/T/ipykernel_28474/1544259119.py\u001b[0m in \u001b[0;36m<module>\u001b[0;34m\u001b[0m\n\u001b[0;32m----> 1\u001b[0;31m \u001b[0mprint\u001b[0m\u001b[0;34m(\u001b[0m\u001b[0mall_links\u001b[0m\u001b[0;34m)\u001b[0m\u001b[0;34m\u001b[0m\u001b[0;34m\u001b[0m\u001b[0m\n\u001b[0m",
      "\u001b[0;31mNameError\u001b[0m: name 'all_links' is not defined"
     ]
    }
   ],
   "source": [
    "print(all_links)"
   ]
  },
  {
   "cell_type": "code",
   "execution_count": null,
   "id": "526543a1",
   "metadata": {},
   "outputs": [],
   "source": [
    "# #creating an empty list: \n",
    "# links = []\n",
    "# # Navigate 13 pages\n",
    "# print('Links are being collected now.')\n",
    "# try: \n",
    "#     for page in range(2,3):\n",
    "#         time.sleep(2)\n",
    "#         jobs_block = driver.find_element(\"xpath\",'//*[@id=\"main-content\"]')\n",
    "#         jobs_list= jobs_block.find_elements(By.CSS_SELECTOR, '#main-content > section.two-pane-serp-page__results-list > ul > li:nth-child(1) > div > a')\n",
    "    \n",
    "#         for job in jobs_list:\n",
    "#             all_links = job.find_elements(By.CSS_SELECTOR, \"a\")\n",
    "#             for a in all_links:\n",
    "#                 if str(a.get_attribute('href')).startswith(\"https://www.linkedin.com/jobs/view\") and a.get_attribute('href') not in links: \n",
    "#                     links.append(a.get_attribute('href'))\n",
    "#                 else:\n",
    "#                     pass\n",
    "#             # scroll down for each job element\n",
    "#             driver.execute_script(\"arguments[0].scrollIntoView();\", job)\n",
    "        \n",
    "#         print(f'Collecting the links in the page: {page-1}')\n",
    "#         # go to next page:\n",
    "#         driver.find_element(\"xpath\",f\"//button[@aria-label='Page {page}']\").click()\n",
    "#         time.sleep(3)\n",
    "# except:\n",
    "#     pass\n",
    "# print('Found ' + str(len(links)) + ' links for job offers')"
   ]
  }
 ],
 "metadata": {
  "kernelspec": {
   "display_name": "Python 3 (ipykernel)",
   "language": "python",
   "name": "python3"
  },
  "language_info": {
   "codemirror_mode": {
    "name": "ipython",
    "version": 3
   },
   "file_extension": ".py",
   "mimetype": "text/x-python",
   "name": "python",
   "nbconvert_exporter": "python",
   "pygments_lexer": "ipython3",
   "version": "3.9.7"
  }
 },
 "nbformat": 4,
 "nbformat_minor": 5
}
