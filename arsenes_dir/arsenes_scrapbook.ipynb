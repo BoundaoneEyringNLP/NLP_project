{
 "cells": [
  {
   "cell_type": "code",
   "execution_count": 1,
   "id": "67197d9a",
   "metadata": {},
   "outputs": [],
   "source": [
    "# Ignoring warning messages from python\n",
    "import warnings\n",
    "warnings.filterwarnings('ignore')\n",
    "\n",
    "# General use imports\n",
    "import pandas as pd\n",
    "import numpy as np\n",
    "import time\n",
    "import selenium\n",
    "\n",
    "# Visualization imports\n",
    "import matplotlib.pyplot as plt\n",
    "import seaborn as sns\n",
    "import plotly.graph_objects as go\n",
    "import plotly\n",
    "import plotly.express as px\n",
    "from plotly.subplots import make_subplots\n",
    "\n",
    "# Selenium imports\n",
    "from selenium import webdriver\n",
    "from selenium.webdriver.common.by import By\n",
    "from selenium.webdriver.support.ui import WebDriverWait\n",
    "from selenium.webdriver.support import expected_conditions as EC\n",
    "from selenium.webdriver.common.keys import Keys"
   ]
  },
  {
   "cell_type": "code",
   "execution_count": 2,
   "id": "3059c945",
   "metadata": {},
   "outputs": [],
   "source": [
    "# Driver's path for Selenium use\n",
    "\n",
    "path = '/Users/arsen/codeup_data_science/chromedriver'\n",
    "driver = webdriver.Chrome(path)"
   ]
  },
  {
   "cell_type": "code",
   "execution_count": 3,
   "id": "a3a4b3f2",
   "metadata": {},
   "outputs": [],
   "source": [
    "# Maximize Window and manipulate the window as human not as a computer\n",
    "driver.maximize_window() \n",
    "driver.minimize_window() \n",
    "driver.maximize_window() \n",
    "driver.switch_to.window(driver.current_window_handle)\n",
    "driver.implicitly_wait(5)"
   ]
  },
  {
   "cell_type": "code",
   "execution_count": 4,
   "id": "9be2bdbc",
   "metadata": {},
   "outputs": [],
   "source": [
    "# Enter to the LinkedIn site\n",
    "driver.get('https://www.linkedin.com/login');\n",
    "time.sleep(2)"
   ]
  },
  {
   "cell_type": "code",
   "execution_count": 5,
   "id": "2942c472",
   "metadata": {},
   "outputs": [],
   "source": [
    "# # If there were cookies we would accept them this way\n",
    "# # Path is hypothetical\n",
    "# driver.find_element_by_xpath('/html/body/div/main/div[1]/div/section/div/div[2]/button[2]').click()"
   ]
  },
  {
   "cell_type": "code",
   "execution_count": 6,
   "id": "a28b3018",
   "metadata": {
    "scrolled": true
   },
   "outputs": [],
   "source": [
    "# Connecting to our credentials\n",
    "# Reading txt file where we have our user credentials\n",
    "with open('credentials.txt', 'r',encoding=\"utf-8\") as file:\n",
    "    credentials = file.readlines(-1)\n",
    "    credentials = [line.rstrip() for line in credentials]\n",
    "    user_name = credentials[0] # First line\n",
    "    password = credentials[1] # Second line\n",
    "\n",
    "    driver.find_element('xpath', '//*[@id=\"username\"]').send_keys(user_name)\n",
    "    driver.find_element('xpath', '//*[@id=\"password\"]').send_keys(password)\n",
    "    time.sleep(1)"
   ]
  },
  {
   "cell_type": "code",
   "execution_count": 7,
   "id": "39b3132f",
   "metadata": {},
   "outputs": [],
   "source": [
    "# # Connecting to our credentials\n",
    "# # Reading txt file where we have our user credentials\n",
    "# # Printing the user_name and password shows what credentials is grabbing\n",
    "# with open('credentials.txt', 'r',encoding=\"utf-8\") as file:\n",
    "#     credentials = file.readlines(-1)\n",
    "#     credentials = [line.rstrip() for line in credentials]\n",
    "# user_name = credentials[0]\n",
    "# password = credentials[1]\n",
    "# print()\n",
    "# print()"
   ]
  },
  {
   "cell_type": "code",
   "execution_count": 8,
   "id": "0a44a295",
   "metadata": {},
   "outputs": [],
   "source": [
    "# Using the login button and waiting 30 seconds for page to fully load\n",
    "driver.find_element('xpath', '//*[@id=\"organic-div\"]/form/div[3]/button').click()\n",
    "driver.implicitly_wait(30)"
   ]
  },
  {
   "cell_type": "code",
   "execution_count": 9,
   "id": "4423440c",
   "metadata": {},
   "outputs": [],
   "source": [
    "# # Using the confirm button for account information\n",
    "# driver.find_element('xpath', '//*[@id=\"ember24\"]/button[1]').click()\n",
    "# driver.implicitly_wait(30)"
   ]
  },
  {
   "cell_type": "code",
   "execution_count": 10,
   "id": "e5b232bf",
   "metadata": {},
   "outputs": [],
   "source": [
    "# # Accessing to the Jobs button and clicking on it\n",
    "# # Seems like we don't need this\n",
    "# driver.find_element('xpath', '//*[@id=\"global-nav\"]/div/nav/ul/li[3]/a').click()\n",
    "# time.sleep(3)"
   ]
  },
  {
   "cell_type": "code",
   "execution_count": 11,
   "id": "0e1e0949",
   "metadata": {},
   "outputs": [],
   "source": [
    "# Accessing the search results directly via link\n",
    "url = 'https://www.linkedin.com/jobs/search/?currentJobId=3290775420&geoId=102396835&keywords=data%\\\n",
    "20scientist&location=San%20Antonio%2C%20Texas%2C%20United%20States&refresh=true'\n",
    "driver.get(url)\n",
    "time.sleep(1)"
   ]
  },
  {
   "cell_type": "code",
   "execution_count": 12,
   "id": "d2f97e98",
   "metadata": {},
   "outputs": [],
   "source": [
    "# # Time for the for-loop\n",
    "# jobs_block = driver.find_element('xpath','jobs-search-results-list')\n",
    "# jobs_list = jobs_block.find_elements(By.CSS_SELECTOR, '.jobs-search-results__list-item')\n",
    "    \n",
    "# for job in jobs_list:\n",
    "#     all_links = job.find_elements_by_tag_name('a')\n",
    "#     for a in all_links:\n",
    "#         if str(a.get_attribute('href')).startswith(\"https://www.linkedin.com/jobs/view\") and a.get_attribute('href') not in links: \n",
    "#             links.append(a.get_attribute('href'))\n",
    "#         else:\n",
    "#             pass"
   ]
  },
  {
   "cell_type": "code",
   "execution_count": 13,
   "id": "046eb3ff",
   "metadata": {},
   "outputs": [],
   "source": [
    "# for job in jobs_list:\n",
    "#     all_links = job.find_elements_by_tag_name('a')\n",
    "#     for a in all_links:\n",
    "#         if str(a.get_attribute('href')).startswith(\"https://www.linkedin.com/jobs/view\") and a.get_attribute('href') not in links: \n",
    "#             links.append(a.get_attribute('href'))\n",
    "#         else:\n",
    "#             pass"
   ]
  },
  {
   "cell_type": "code",
   "execution_count": 14,
   "id": "b9eba692",
   "metadata": {},
   "outputs": [],
   "source": [
    "# for job in jobs_list:\n",
    "#     all_links = job.find_elements_by_tag_name('a')\n",
    "#     for a in all_links:\n",
    "#         if str(a.get_attribute('href')).startswith(\"https://www.linkedin.com/jobs/view\") and a.get_attribute('href') not in links: \n",
    "#             links.append(a.get_attribute('href'))\n",
    "#         else:\n",
    "#             pass"
   ]
  },
  {
   "cell_type": "code",
   "execution_count": 30,
   "id": "81fb9fc8",
   "metadata": {},
   "outputs": [
    {
     "name": "stdout",
     "output_type": "stream",
     "text": [
      "Links are being collected now.\n",
      "Found 0 links for job offers\n"
     ]
    }
   ],
   "source": [
    "# Creating an empty list: \n",
    "links = []\n",
    "# Navigating 25 jobslots\n",
    "print('Links are being collected now.')\n",
    "try: \n",
    "    for page in range(2, 14, 1):\n",
    "        time.sleep(4)\n",
    "        jobs_block = driver.find_element(By.CLASS_NAME, 'scaffold-layout__list-container')\n",
    "        jobs_list = jobs_block.find_elements(By.CSS_SELECTOR, 'li.ember-view.jobs-search-results__list-item')\n",
    "#         job-card-container.relative.job-card-list.job-card-container--clickable\n",
    "        for job in jobs_lists:\n",
    "            all_links = jobs_list.find_elements(By.TAG_NAME, 'a')\n",
    "            for a in all_links:\n",
    "                if str(a.get_attribute('href')).startswith('/jobs/view') and a.get_attribute('href') not in links: \n",
    "#                     https://www.linkedin.com\n",
    "                    links.append(a.get_attribute('href'))\n",
    "                else:\n",
    "                    pass\n",
    "            # scroll down for each job element\n",
    "            driver.execute_Script('arguments[0].scrollIntoView();', job)\n",
    "\n",
    "        print(f'Collecting the links in the page: {page-1}')\n",
    "        # go to next page:\n",
    "        driver.find_element('xpath', f\"//button[@aria-label='Page {page}']\").click()\n",
    "        time.sleep(3)\n",
    "except:\n",
    "    pass\n",
    "print('Found ' + str(len(links)) + ' links for job offers')"
   ]
  },
  {
   "cell_type": "code",
   "execution_count": 31,
   "id": "54b5736d",
   "metadata": {},
   "outputs": [
    {
     "name": "stdout",
     "output_type": "stream",
     "text": [
      "Links are being collected now.\n",
      "Found 0 links for job offers\n"
     ]
    }
   ],
   "source": [
    "#creating an empty list: \n",
    "links = []\n",
    "# Navigate 13 pages\n",
    "print('Links are being collected now.')\n",
    "try: \n",
    "    for page in range(2,3):\n",
    "        time.sleep(2)\n",
    "        jobs_block = driver.find_element(\"xpath\",'//*[@id=\"main-content\"]')\n",
    "        jobs_list= jobs_block.find_elements(By.CSS_SELECTOR, '#main-content > section.two-pane-serp-page__results-list > ul > li:nth-child(1) > div > a')\n",
    "    \n",
    "        for job in jobs_list:\n",
    "            all_links = job.find_elements(By.CSS_SELECTOR, \"a\")\n",
    "            for a in all_links:\n",
    "                if str(a.get_attribute('href')).startswith(\"https://www.linkedin.com/jobs/view\") and a.get_attribute('href') not in links: \n",
    "                    links.append(a.get_attribute('href'))\n",
    "                else:\n",
    "                    pass\n",
    "            # scroll down for each job element\n",
    "            driver.execute_script(\"arguments[0].scrollIntoView();\", job)\n",
    "        \n",
    "        print(f'Collecting the links in the page: {page-1}')\n",
    "        # go to next page:\n",
    "        driver.find_element(\"xpath\",f\"//button[@aria-label='Page {page}']\").click()\n",
    "        time.sleep(3)\n",
    "except:\n",
    "    pass\n",
    "print('Found ' + str(len(links)) + ' links for job offers')"
   ]
  },
  {
   "cell_type": "code",
   "execution_count": 16,
   "id": "9887a864",
   "metadata": {},
   "outputs": [
    {
     "ename": "TypeError",
     "evalue": "'str' object is not callable",
     "output_type": "error",
     "traceback": [
      "\u001b[0;31m---------------------------------------------------------------------------\u001b[0m",
      "\u001b[0;31mTypeError\u001b[0m                                 Traceback (most recent call last)",
      "\u001b[0;32m/var/folders/5k/zptdym41293159jft7y2b6cm0000gp/T/ipykernel_71621/3238237380.py\u001b[0m in \u001b[0;36m<module>\u001b[0;34m\u001b[0m\n\u001b[1;32m      2\u001b[0m     \u001b[0mtime\u001b[0m\u001b[0;34m.\u001b[0m\u001b[0msleep\u001b[0m\u001b[0;34m(\u001b[0m\u001b[0;36m4\u001b[0m\u001b[0;34m)\u001b[0m\u001b[0;34m\u001b[0m\u001b[0;34m\u001b[0m\u001b[0m\n\u001b[1;32m      3\u001b[0m     \u001b[0mjobs_group\u001b[0m \u001b[0;34m=\u001b[0m \u001b[0mdriver\u001b[0m\u001b[0;34m.\u001b[0m\u001b[0mfind_element\u001b[0m\u001b[0;34m(\u001b[0m\u001b[0mBy\u001b[0m\u001b[0;34m.\u001b[0m\u001b[0mCLASS_NAME\u001b[0m\u001b[0;34m,\u001b[0m \u001b[0;34m'jobs-search-results-list'\u001b[0m\u001b[0;34m)\u001b[0m\u001b[0;34m\u001b[0m\u001b[0;34m\u001b[0m\u001b[0m\n\u001b[0;32m----> 4\u001b[0;31m     \u001b[0mjobs_list\u001b[0m \u001b[0;34m=\u001b[0m \u001b[0mjobs_group\u001b[0m\u001b[0;34m.\u001b[0m\u001b[0mfind_elements\u001b[0m\u001b[0;34m(\u001b[0m\u001b[0mBy\u001b[0m\u001b[0;34m.\u001b[0m\u001b[0mCSS_SELECTOR\u001b[0m\u001b[0;34m(\u001b[0m\u001b[0;34m'.jobs-search-results__list-item'\u001b[0m\u001b[0;34m)\u001b[0m\u001b[0;34m)\u001b[0m\u001b[0;34m\u001b[0m\u001b[0;34m\u001b[0m\u001b[0m\n\u001b[0m\u001b[1;32m      5\u001b[0m \u001b[0mprint\u001b[0m\u001b[0;34m(\u001b[0m\u001b[0mjobs_group\u001b[0m\u001b[0;34m)\u001b[0m\u001b[0;34m\u001b[0m\u001b[0;34m\u001b[0m\u001b[0m\n\u001b[1;32m      6\u001b[0m \u001b[0mprint\u001b[0m\u001b[0;34m(\u001b[0m\u001b[0mjobs_list\u001b[0m\u001b[0;34m)\u001b[0m\u001b[0;34m\u001b[0m\u001b[0;34m\u001b[0m\u001b[0m\n",
      "\u001b[0;31mTypeError\u001b[0m: 'str' object is not callable"
     ]
    }
   ],
   "source": [
    "for jobslots in range(3, 26, 1):\n",
    "    time.sleep(4)\n",
    "    jobs_group = driver.find_element(By.CLASS_NAME, 'jobs-search-results-list')\n",
    "    jobs_list = jobs_group.find_elements(By.CSS_SELECTOR('.jobs-search-results__list-item'))\n",
    "print(jobs_group)\n",
    "print(jobs_list)"
   ]
  },
  {
   "cell_type": "markdown",
   "id": "02f4a9da",
   "metadata": {},
   "source": [
    "- Tried:  \n",
    "    - cssSelector associated with id\n",
    "    - xpath associated with the xpath ('//*[@id=\"main\"]/div/section[1]/div/ul') for jobs_block\n",
    "    - cssSelector associated with id variable (#ember190)\n",
    "    - className associated with the class name ('jobs-search-results-list')\n",
    "    - By.ID with 'data-job-id'\n",
    "    - Today 10/2 tried this:\n",
    "    #creating an empty list: \n",
    "links = []\n",
    "#### Navigate 13 pages\n",
    "print('Links are being collected now.')\n",
    "try: \n",
    "    for page in range(0, 14, 1):\n",
    "        time.sleep(4)\n",
    "        jobs_block = driver.find_element(By.CLASS_NAME('scaffold-layout__list-container'))\n",
    "        jobs_list = jobs_block.find_elements(By.ID('ember-view   jobs-search-results__list-item occludable-update p0 relative scaffold-layout__list-item'))\n",
    "        for job in jobs_list:\n",
    "            all_links = job.find_elements(By.TAG_NAME, 'a')\n",
    "            for a in all_links:\n",
    "                if str(a.get_attribute('href')).startswith('/jobs/view') and a.get_attribute('href') not in links: \n",
    "                    links.append(a.get_attribute('href'))\n",
    "                else:\n",
    "                    pass\n",
    "            # scroll down for each job element\n",
    "            driver.execute_Script('arguments[0].scrollIntoView();', job)\n",
    "        \n",
    "        print(f'Collecting the links in the page: {page-1}')\n",
    "        ##### go to next page:\n",
    "        driver.find_element('xpath', f\"//button[@aria-label='Page {page}']\").click() #//*[@id=\"ember1634\"]/button\n",
    "        time.sleep(3)\n",
    "except:\n",
    "    pass\n",
    "print('Found ' + str(len(links)) + ' links for job offers')  \n",
    "\n",
    "\n",
    "   - I am gonna modify elements by elements from here to see what happens. Next try:  \n",
    "   \n",
    "   #creating an empty list: \n",
    "links = []\n",
    "#### Navigate 13 pages\n",
    "print('Links are being collected now.')\n",
    "try: \n",
    "    for page in range(3, 14, 1):\n",
    "        time.sleep(4)\n",
    "        jobs_block = driver.find_element(By.CLASS_NAME('jobs-search-results-list'))\n",
    "        jobs_list = jobs_block.find_elements(By.ID('.jobs-search-results__list-item'))\n",
    "        for job in jobs_list:\n",
    "            all_links = job.find_elements(By.TAG_NAME, 'a')\n",
    "            for a in all_links:\n",
    "                if str(a.get_attribute('href')).startswith('https://www.linkedin.com/jobs/view') and a.get_attribute('href') not in links: \n",
    "                    links.append(a.get_attribute('href'))\n",
    "                else:\n",
    "                    pass\n",
    "            # scroll down for each job element\n",
    "            driver.execute_Script('arguments[0].scrollIntoView();', job)\n",
    "        \n",
    "        print(f'Collecting the links in the page: {page-1}')\n",
    "        #### go to next page:\n",
    "        driver.find_element('xpath', f\"//button[@aria-label='Page {page}']\").click() #//*[@id=\"ember1634\"]/button\n",
    "        time.sleep(3)\n",
    "except:\n",
    "    pass\n",
    "print('Found ' + str(len(links)) + ' links for job offers')  \n",
    "\n",
    "\n",
    "   - Next try:  \n",
    "    \n",
    "    #### Creating an empty list: \n",
    "links = []\n",
    "#### Navigating 25 jobslots\n",
    "print('Links are being collected now.')\n",
    "try: \n",
    "    for jobslots in range(3, 26, 1):\n",
    "        time.sleep(4)\n",
    "        jobs_block = driver.find_element(By.CLASS_NAME('jobs-search-results-list'))\n",
    "        jobs_list = jobs_block.find_elements(By.CSS_SELECTOR('.jobs-search-results__list-item'))\n",
    "        for job in jobs_list:\n",
    "            all_links = job.find_elements(By.TAG_NAME, 'a')\n",
    "            for a in all_links:\n",
    "                if str(a.get_attribute('href')).startswith('https://www.linkedin.com/jobs/view') and a.get_attribute('href') not in links: \n",
    "                    links.append(a.get_attribute('href'))\n",
    "                else:\n",
    "                    pass\n",
    "            # scroll down for each job element\n",
    "            driver.execute_Script('arguments[0].scrollIntoView();', job)\n",
    "        \n",
    "        print(f'Collecting the links in the page: {page-1}')\n",
    "        #### go to next page:\n",
    "        driver.find_element('xpath', f\"//button[@aria-label='Page {page}']\").click() #//*[@id=\"ember1634\"]/button\n",
    "        time.sleep(3)\n",
    "except:\n",
    "    pass\n",
    "print('Found ' + str(len(links)) + ' links for job offers')"
   ]
  },
  {
   "cell_type": "code",
   "execution_count": 32,
   "id": "9b274cb2",
   "metadata": {},
   "outputs": [
    {
     "name": "stdout",
     "output_type": "stream",
     "text": [
      "[<selenium.webdriver.remote.webelement.WebElement (session=\"adf053bf1f2658efe7ded372f2878919\", element=\"6387bbc5-1125-4ca0-806d-6282939e86db\")>, <selenium.webdriver.remote.webelement.WebElement (session=\"adf053bf1f2658efe7ded372f2878919\", element=\"134f6e9b-bca1-4ffe-8611-45bb8678cca3\")>, <selenium.webdriver.remote.webelement.WebElement (session=\"adf053bf1f2658efe7ded372f2878919\", element=\"3d80fc7f-ff11-4e4d-a10e-a698cef06da6\")>, <selenium.webdriver.remote.webelement.WebElement (session=\"adf053bf1f2658efe7ded372f2878919\", element=\"c549cdcc-4a52-49a8-b8e3-6fe075613833\")>, <selenium.webdriver.remote.webelement.WebElement (session=\"adf053bf1f2658efe7ded372f2878919\", element=\"2b257f9a-9dc8-45fb-b82b-5482c86e31c4\")>, <selenium.webdriver.remote.webelement.WebElement (session=\"adf053bf1f2658efe7ded372f2878919\", element=\"f946347f-df75-47b5-b494-09145915217d\")>, <selenium.webdriver.remote.webelement.WebElement (session=\"adf053bf1f2658efe7ded372f2878919\", element=\"236a16eb-6126-495a-9662-634897caccc4\")>, <selenium.webdriver.remote.webelement.WebElement (session=\"adf053bf1f2658efe7ded372f2878919\", element=\"664cb058-b3af-42d9-83b2-cb915773815a\")>, <selenium.webdriver.remote.webelement.WebElement (session=\"adf053bf1f2658efe7ded372f2878919\", element=\"5e405416-a48f-4afe-b41a-badbc62e3db7\")>, <selenium.webdriver.remote.webelement.WebElement (session=\"adf053bf1f2658efe7ded372f2878919\", element=\"726723fc-53bb-4f22-8e5d-901c31242397\")>, <selenium.webdriver.remote.webelement.WebElement (session=\"adf053bf1f2658efe7ded372f2878919\", element=\"b0ff0d5b-cc5c-48ca-a2d4-0a1c96a99b8e\")>, <selenium.webdriver.remote.webelement.WebElement (session=\"adf053bf1f2658efe7ded372f2878919\", element=\"a113f154-5d01-4022-8a34-521bc46694d2\")>, <selenium.webdriver.remote.webelement.WebElement (session=\"adf053bf1f2658efe7ded372f2878919\", element=\"6d361141-3ea9-4ac0-b604-1386204d3bb9\")>, <selenium.webdriver.remote.webelement.WebElement (session=\"adf053bf1f2658efe7ded372f2878919\", element=\"35da1be0-81f2-42c2-b710-98b4b717b4d2\")>, <selenium.webdriver.remote.webelement.WebElement (session=\"adf053bf1f2658efe7ded372f2878919\", element=\"5c617b52-21a5-40bf-91e4-078f3954aae5\")>, <selenium.webdriver.remote.webelement.WebElement (session=\"adf053bf1f2658efe7ded372f2878919\", element=\"aa159bab-2202-4f52-9327-30f09af8d8fc\")>, <selenium.webdriver.remote.webelement.WebElement (session=\"adf053bf1f2658efe7ded372f2878919\", element=\"b5799ddf-06f8-4d79-a910-db24c75a9c26\")>, <selenium.webdriver.remote.webelement.WebElement (session=\"adf053bf1f2658efe7ded372f2878919\", element=\"46e61ad4-b7de-49b5-8559-b018f9db2bb8\")>, <selenium.webdriver.remote.webelement.WebElement (session=\"adf053bf1f2658efe7ded372f2878919\", element=\"b4f5855d-e222-479b-96b6-2246d35727f7\")>, <selenium.webdriver.remote.webelement.WebElement (session=\"adf053bf1f2658efe7ded372f2878919\", element=\"ed3bb94d-4f33-4285-9032-dbbda43302d6\")>, <selenium.webdriver.remote.webelement.WebElement (session=\"adf053bf1f2658efe7ded372f2878919\", element=\"bfc9b69e-2dab-4bf4-a9a3-68e15ca138f8\")>, <selenium.webdriver.remote.webelement.WebElement (session=\"adf053bf1f2658efe7ded372f2878919\", element=\"1ac4948f-3af5-4fbd-aead-c7babe01c6b2\")>, <selenium.webdriver.remote.webelement.WebElement (session=\"adf053bf1f2658efe7ded372f2878919\", element=\"d9ecb303-c566-4896-a38c-0b546d3452e7\")>, <selenium.webdriver.remote.webelement.WebElement (session=\"adf053bf1f2658efe7ded372f2878919\", element=\"5bf36e71-2969-4368-be1e-91ec05149726\")>, <selenium.webdriver.remote.webelement.WebElement (session=\"adf053bf1f2658efe7ded372f2878919\", element=\"6be7ee31-ce56-4694-9855-a38f91bf8a2d\")>]\n"
     ]
    }
   ],
   "source": [
    "print(jobs_list)"
   ]
  },
  {
   "cell_type": "code",
   "execution_count": 33,
   "id": "0d79a1a0",
   "metadata": {},
   "outputs": [
    {
     "name": "stdout",
     "output_type": "stream",
     "text": [
      "[<selenium.webdriver.remote.webelement.WebElement (session=\"adf053bf1f2658efe7ded372f2878919\", element=\"88683a4c-e640-4733-9620-1cf208e28b7f\")>, <selenium.webdriver.remote.webelement.WebElement (session=\"adf053bf1f2658efe7ded372f2878919\", element=\"84ed48b5-f280-4c91-9869-6be95186e475\")>, <selenium.webdriver.remote.webelement.WebElement (session=\"adf053bf1f2658efe7ded372f2878919\", element=\"272982fc-2ceb-438c-9428-d3f477ac5abe\")>]\n"
     ]
    }
   ],
   "source": [
    "print(all_links)"
   ]
  }
 ],
 "metadata": {
  "kernelspec": {
   "display_name": "Python 3 (ipykernel)",
   "language": "python",
   "name": "python3"
  },
  "language_info": {
   "codemirror_mode": {
    "name": "ipython",
    "version": 3
   },
   "file_extension": ".py",
   "mimetype": "text/x-python",
   "name": "python",
   "nbconvert_exporter": "python",
   "pygments_lexer": "ipython3",
   "version": "3.9.7"
  }
 },
 "nbformat": 4,
 "nbformat_minor": 5
}
