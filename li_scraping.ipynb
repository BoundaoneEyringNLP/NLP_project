{
 "cells": [
  {
   "cell_type": "code",
   "execution_count": 1,
   "id": "197d364e",
   "metadata": {},
   "outputs": [],
   "source": [
    "# Ignoring warning messages from python\n",
    "import warnings\n",
    "warnings.filterwarnings('ignore')\n",
    "\n",
    "# General use imports\n",
    "import pandas as pd\n",
    "import numpy as np\n",
    "import time\n",
    "import selenium\n",
    "\n",
    "# Visualization imports\n",
    "import matplotlib.pyplot as plt\n",
    "import seaborn as sns\n",
    "import plotly.graph_objects as go\n",
    "import plotly\n",
    "import plotly.express as px\n",
    "from plotly.subplots import make_subplots\n",
    "\n",
    "# Selenium imports\n",
    "from selenium import webdriver\n",
    "from selenium.webdriver.common.by import By\n",
    "from selenium.webdriver.support.ui import WebDriverWait\n",
    "from selenium.webdriver.support import expected_conditions as EC\n",
    "from selenium.webdriver.common.keys import Keys"
   ]
  },
  {
   "cell_type": "code",
   "execution_count": 2,
   "id": "9f4c2d90",
   "metadata": {},
   "outputs": [],
   "source": [
    "# Driver's path for Selenium use\n",
    "\n",
    "path = '/Users/arsen/codeup_data_science/chromedriver'\n",
    "driver = webdriver.Chrome(path)"
   ]
  },
  {
   "cell_type": "code",
   "execution_count": 3,
   "id": "4d345fc4",
   "metadata": {},
   "outputs": [],
   "source": [
    "# Maximize Window and manipulate the window as human not as a computer\n",
    "driver.maximize_window() \n",
    "driver.minimize_window() \n",
    "driver.maximize_window() \n",
    "driver.switch_to.window(driver.current_window_handle)\n",
    "driver.implicitly_wait(10)"
   ]
  },
  {
   "cell_type": "code",
   "execution_count": 4,
   "id": "01faa0c1",
   "metadata": {},
   "outputs": [],
   "source": [
    "# Enter to the LinkedIn site\n",
    "driver.get('https://www.linkedin.com/login');\n",
    "time.sleep(4)"
   ]
  },
  {
   "cell_type": "code",
   "execution_count": null,
   "id": "0f75858b",
   "metadata": {},
   "outputs": [],
   "source": [
    "# # If there were cookies we would accept them this way\n",
    "# # Path is hypothetical\n",
    "# driver.find_element_by_xpath('/html/body/div/main/div[1]/div/section/div/div[2]/button[2]').click()"
   ]
  },
  {
   "cell_type": "code",
   "execution_count": 5,
   "id": "13a65fc4",
   "metadata": {},
   "outputs": [],
   "source": [
    "# User Credentials\n",
    "# Reading txt file where we have our user credentials\n",
    "with open('credentials.txt', 'r', encoding=\"utf-8\") as file:\n",
    "    credentials = file.readlines()\n",
    "    credentials = [line.rstrip() for line in credentials]\n",
    "user_name = credentials[0] # First line\n",
    "password = credentials[1] # Second line\n",
    "\n",
    "driver.find_element('xpath', '//*[@id=\"username\"]').send_keys(user_name)\n",
    "driver.find_element('xpath', '//*[@id=\"password\"]').send_keys(password)\n",
    "\n",
    "time.sleep(1)"
   ]
  },
  {
   "cell_type": "code",
   "execution_count": 6,
   "id": "47e6ef50",
   "metadata": {},
   "outputs": [],
   "source": [
    "# Using the login button and waiting 30 seconds for page to fully load\n",
    "driver.find_element('xpath', '//*[@id=\"organic-div\"]/form/div[3]/button').click()\n",
    "driver.implicitly_wait(30)"
   ]
  },
  {
   "cell_type": "markdown",
   "id": "d0014fdf",
   "metadata": {},
   "source": [
    "It seems like sometimes it may ask to update account information, the same way it asks for cookies but it didn't because i had accepted cookies from the website in my previous human navigation.  \n",
    "  \n",
    "    - The code below clicks on update account info if it exists  \n",
    "    - i am wondering if leaving the code that way will break the algrithm as a whole  \n",
    "    - Same question for adding a click on cookies code  \n",
    "    - If it breaks it the solution may be in writing the whole thing (click on accept cookies, get credentials, fill out username/password, click login button, click on update user info) in a loop that checks for specific conditions for each step  \n",
    "    - if not maybe leave them separated. Short codes that do one thing better  anyways"
   ]
  },
  {
   "cell_type": "code",
   "execution_count": null,
   "id": "af55c8cc",
   "metadata": {},
   "outputs": [],
   "source": [
    "# Using the confirm button for account information\n",
    "# If the webpage do not ask for account info update, no need to run this cell\n",
    "driver.find_element('xpath', '//*[@id=\"ember24\"]/button[1]').click()\n",
    "driver.implicitly_wait(30)"
   ]
  },
  {
   "cell_type": "code",
   "execution_count": 7,
   "id": "74d2c75d",
   "metadata": {},
   "outputs": [],
   "source": [
    "# Accessing to the Jobs button and clicking on it\n",
    "driver.find_element('xpath', '//*[@id=\"global-nav\"]/div/nav/ul/li[3]/a').click()\n",
    "time.sleep(3)"
   ]
  },
  {
   "cell_type": "code",
   "execution_count": 8,
   "id": "11c92aae",
   "metadata": {},
   "outputs": [],
   "source": [
    "url = 'https://www.linkedin.com/jobs/search/?currentJobId=2967874086&\\\n",
    "geoId=102396835&keywords=data%20analyst%2C%20data%20scientist%2C%20business%\\\n",
    "20analyst%2C%20machine%20learning%20engineer%2C%20data%20engineer&\\\n",
    "location=San%20Antonio%2C%20Texas%2C%20United%20States&refresh=true'\n",
    "driver.get(url)\n",
    "time.sleep(1)"
   ]
  },
  {
   "cell_type": "code",
   "execution_count": null,
   "id": "349d7bc6",
   "metadata": {},
   "outputs": [],
   "source": [
    "# Time for the for loop\n",
    "jobs_block = driver.find_element_by_class_name('jobs-search-results-list')\n",
    "    jobs_list = jobs_block.find_elements(By.CSS_SELECTOR, '.jobs-search-results__list-item')"
   ]
  }
 ],
 "metadata": {
  "kernelspec": {
   "display_name": "Python 3 (ipykernel)",
   "language": "python",
   "name": "python3"
  },
  "language_info": {
   "codemirror_mode": {
    "name": "ipython",
    "version": 3
   },
   "file_extension": ".py",
   "mimetype": "text/x-python",
   "name": "python",
   "nbconvert_exporter": "python",
   "pygments_lexer": "ipython3",
   "version": "3.9.7"
  }
 },
 "nbformat": 4,
 "nbformat_minor": 5
}
